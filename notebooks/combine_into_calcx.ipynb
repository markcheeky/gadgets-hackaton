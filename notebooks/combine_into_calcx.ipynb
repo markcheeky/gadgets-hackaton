{
 "cells": [
  {
   "cell_type": "code",
   "execution_count": 1,
   "metadata": {},
   "outputs": [],
   "source": [
    "import datasets\n",
    "import numpy as np"
   ]
  },
  {
   "cell_type": "code",
   "execution_count": 2,
   "metadata": {},
   "outputs": [],
   "source": [
    "calcx_ds_names = [\n",
    "    \"gsm8k\",\n",
    "    \"ape210k\",\n",
    "    \"aqua_rat\",\n",
    "    \"math_qa\",\n",
    "    \"svamp\",\n",
    "    \"asdiv_a\",\n",
    "    \"mawps\",\n",
    "]\n",
    "\n",
    "all_ds = {\n",
    "    ds_name: datasets.load_dataset(f\"MU-NLPC/calc-{ds_name}\")\n",
    "    for ds_name in calcx_ds_names\n",
    "}\n",
    "\n",
    "common_cols = [\"id\", \"question\", \"chain\", \"result\"]"
   ]
  },
  {
   "cell_type": "code",
   "execution_count": 3,
   "metadata": {},
   "outputs": [
    {
     "data": {
      "text/plain": [
       "{'id': 'ape210k__00666205',\n",
       " 'question': ' A semicircular aquarium has a radius of 5 meters, what is the perimeter of the aquarium in meters?',\n",
       " 'chain': '\\n<gadget id=\"calculator\">3.14 * 5</gadget>\\n<output>15.7</output>\\n\\n<gadget id=\"calculator\">5 * 2</gadget>\\n<output>10</output>\\n\\n<gadget id=\"calculator\">15.7 + 10</gadget>\\n<output>25.7</output>\\n\\n<result>25.7</result>',\n",
       " 'result': '25.7',\n",
       " 'source_ds': 'ape210k'}"
      ]
     },
     "execution_count": 3,
     "metadata": {},
     "output_type": "execute_result"
    }
   ],
   "source": [
    "calcx = datasets.DatasetDict({\n",
    "    split: datasets.concatenate_datasets([\n",
    "        (all_ds[ds_name][split]\n",
    "            .select_columns(common_cols)\n",
    "            .add_column(\"source_ds\", [ds_name] * len(all_ds[ds_name][split]))\n",
    "        )\n",
    "        for ds_name in calcx_ds_names\n",
    "        if split in all_ds[ds_name]\n",
    "    ])\n",
    "    for split in [\"train\", \"validation\", \"test\"]\n",
    "})\n",
    "\n",
    "calcx[\"train\"] = calcx[\"train\"].shuffle(seed=0)\n",
    "calcx[\"train\"][0]"
   ]
  },
  {
   "cell_type": "code",
   "execution_count": 4,
   "metadata": {},
   "outputs": [],
   "source": [
    "assert datasets.concatenate_datasets([calcx[\"train\"], calcx[\"validation\"], calcx[\"test\"]]).to_pandas()[\"id\"].is_unique"
   ]
  },
  {
   "cell_type": "code",
   "execution_count": 5,
   "metadata": {},
   "outputs": [
    {
     "data": {
      "application/vnd.jupyter.widget-view+json": {
       "model_id": "5aa4ffa10c514bd88d603e40600f83fb",
       "version_major": 2,
       "version_minor": 0
      },
      "text/plain": [
       "Pushing dataset shards to the dataset hub:   0%|          | 0/1 [00:00<?, ?it/s]"
      ]
     },
     "metadata": {},
     "output_type": "display_data"
    },
    {
     "data": {
      "application/vnd.jupyter.widget-view+json": {
       "model_id": "ee5d49cfe7d94b76bd72575e276b4e20",
       "version_major": 2,
       "version_minor": 0
      },
      "text/plain": [
       "Creating parquet from Arrow format:   0%|          | 0/320 [00:00<?, ?ba/s]"
      ]
     },
     "metadata": {},
     "output_type": "display_data"
    },
    {
     "data": {
      "application/vnd.jupyter.widget-view+json": {
       "model_id": "77ab47f94897486da085dde17073218d",
       "version_major": 2,
       "version_minor": 0
      },
      "text/plain": [
       "Pushing dataset shards to the dataset hub:   0%|          | 0/1 [00:00<?, ?it/s]"
      ]
     },
     "metadata": {},
     "output_type": "display_data"
    },
    {
     "data": {
      "application/vnd.jupyter.widget-view+json": {
       "model_id": "afe9961cf663483d958af30c96fbee2f",
       "version_major": 2,
       "version_minor": 0
      },
      "text/plain": [
       "Creating parquet from Arrow format:   0%|          | 0/4 [00:00<?, ?ba/s]"
      ]
     },
     "metadata": {},
     "output_type": "display_data"
    },
    {
     "data": {
      "application/vnd.jupyter.widget-view+json": {
       "model_id": "9f20137d20aa436eac84fc413091ea76",
       "version_major": 2,
       "version_minor": 0
      },
      "text/plain": [
       "Pushing dataset shards to the dataset hub:   0%|          | 0/1 [00:00<?, ?it/s]"
      ]
     },
     "metadata": {},
     "output_type": "display_data"
    },
    {
     "data": {
      "application/vnd.jupyter.widget-view+json": {
       "model_id": "4aa97c47b87240b8b1324a8b1329d5fd",
       "version_major": 2,
       "version_minor": 0
      },
      "text/plain": [
       "Creating parquet from Arrow format:   0%|          | 0/7 [00:00<?, ?ba/s]"
      ]
     },
     "metadata": {},
     "output_type": "display_data"
    }
   ],
   "source": [
    "# calcx.push_to_hub(\"MU-NLPC/Calc-X\")"
   ]
  }
 ],
 "metadata": {
  "kernelspec": {
   "display_name": "gadgets",
   "language": "python",
   "name": "python3"
  },
  "language_info": {
   "codemirror_mode": {
    "name": "ipython",
    "version": 3
   },
   "file_extension": ".py",
   "mimetype": "text/x-python",
   "name": "python",
   "nbconvert_exporter": "python",
   "pygments_lexer": "ipython3",
   "version": "3.10.12"
  }
 },
 "nbformat": 4,
 "nbformat_minor": 2
}
