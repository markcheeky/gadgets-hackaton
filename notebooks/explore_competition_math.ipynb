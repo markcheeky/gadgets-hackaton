{
 "cells": [
  {
   "cell_type": "code",
   "execution_count": 2,
   "metadata": {},
   "outputs": [],
   "source": [
    "import datasets"
   ]
  },
  {
   "cell_type": "code",
   "execution_count": 3,
   "metadata": {},
   "outputs": [],
   "source": [
    "ds = datasets.load_dataset(\"competition_math\")"
   ]
  },
  {
   "cell_type": "code",
   "execution_count": 4,
   "metadata": {},
   "outputs": [],
   "source": [
    "from IPython.display import display, Latex"
   ]
  },
  {
   "cell_type": "code",
   "execution_count": 15,
   "metadata": {},
   "outputs": [
    {
     "data": {
      "text/plain": [
       "{'problem': 'If $m$ is a real number and $x^2+mx+4$ has two distinct real roots, then what are the possible values of $m$?  Express your answer in interval notation.',\n",
       " 'level': 'Level 5',\n",
       " 'type': 'Algebra',\n",
       " 'solution': 'By considering the expression $\\\\frac{-b\\\\pm \\\\sqrt{b^2-4ac}}{2a}$ for the roots of $ax^2+bx+c$, we find that the roots are real and distinct if and only if the discriminant $b^2-4ac$ is positive. So the roots of $x^2+mx+4$ are real and positive when $m^2-4(1)(4) > 0$.  Simplifying and factoring the left-hand side, we find $(m-4)(m+4) > 0$, which implies $m\\\\in \\\\boxed{(-\\\\infty,-4)\\\\cup (4,\\\\infty)}$.'}"
      ]
     },
     "execution_count": 15,
     "metadata": {},
     "output_type": "execute_result"
    }
   ],
   "source": [
    "example = ds[\"train\"][451]\n",
    "example"
   ]
  },
  {
   "cell_type": "code",
   "execution_count": 16,
   "metadata": {},
   "outputs": [
    {
     "name": "stdout",
     "output_type": "stream",
     "text": [
      "If $m$ is a real number and $x^2+mx+4$ has two distinct real roots, then what are the possible values of $m$?  Express your answer in interval notation.\n"
     ]
    }
   ],
   "source": [
    "print(example[\"problem\"])"
   ]
  },
  {
   "cell_type": "code",
   "execution_count": 17,
   "metadata": {},
   "outputs": [
    {
     "data": {
      "text/latex": [
       "By considering the expression $\\frac{-b\\pm \\sqrt{b^2-4ac}}{2a}$ for the roots of $ax^2+bx+c$, we find that the roots are real and distinct if and only if the discriminant $b^2-4ac$ is positive. So the roots of $x^2+mx+4$ are real and positive when $m^2-4(1)(4) > 0$.  Simplifying and factoring the left-hand side, we find $(m-4)(m+4) > 0$, which implies $m\\in \\boxed{(-\\infty,-4)\\cup (4,\\infty)}$."
      ],
      "text/plain": [
       "<IPython.core.display.Latex object>"
      ]
     },
     "execution_count": 17,
     "metadata": {},
     "output_type": "execute_result"
    }
   ],
   "source": [
    "Latex(example[\"solution\"])\n",
    "# I have checked in overleaf and the latex is valid even though it is not always displayed fully here"
   ]
  },
  {
   "cell_type": "code",
   "execution_count": null,
   "metadata": {},
   "outputs": [],
   "source": []
  }
 ],
 "metadata": {
  "kernelspec": {
   "display_name": "gadgets",
   "language": "python",
   "name": "python3"
  },
  "language_info": {
   "codemirror_mode": {
    "name": "ipython",
    "version": 3
   },
   "file_extension": ".py",
   "mimetype": "text/x-python",
   "name": "python",
   "nbconvert_exporter": "python",
   "pygments_lexer": "ipython3",
   "version": "3.10.12"
  },
  "orig_nbformat": 4
 },
 "nbformat": 4,
 "nbformat_minor": 2
}
