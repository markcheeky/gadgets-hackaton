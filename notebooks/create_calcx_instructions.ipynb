{
 "cells": [
  {
   "cell_type": "code",
   "execution_count": 1,
   "metadata": {},
   "outputs": [],
   "source": [
    "import numpy as np\n",
    "import pandas as pd\n",
    "import datasets"
   ]
  },
  {
   "cell_type": "code",
   "execution_count": 2,
   "metadata": {},
   "outputs": [
    {
     "data": {
      "text/plain": [
       "{'ape210k', 'aqua_rat', 'asdiv_a', 'gsm8k', 'math_qa', 'mawps', 'svamp'}"
      ]
     },
     "execution_count": 2,
     "metadata": {},
     "output_type": "execute_result"
    }
   ],
   "source": [
    "calcx = datasets.load_dataset(\"mu-nlpc/calc-x\")\n",
    "calcx_ds_names = set.union(*[set(split[\"source_ds\"]) for split in calcx.values()])\n",
    "calcx_ds_names"
   ]
  },
  {
   "cell_type": "code",
   "execution_count": 3,
   "metadata": {},
   "outputs": [],
   "source": [
    "templates = {\n",
    "    \"gsm8k\": {\n",
    "        \"{}\": 0.5,\n",
    "        \"Solve the following math word problem using a calculator.\\n{}\\nDescribe each step in words.\": 0.05,\n",
    "        \"You can use a calculator. Solve this problem and explain your reasoning.\\n {}\": 0.05,\n",
    "        \"Solve the math problem below. State each calculation and provide explanation for each step. {}\": 0.05,\n",
    "        \"Answer the following question and give a step-by-step solution. You can call calculator API.\\n{}\": 0.05,\n",
    "        \"{}\\nCalculate the solution to the math problem with a calculator program. Explain your method clearly an format it well.\": 0.05,\n",
    "        \"Please compute the answer using a calculator function calls.{}\\nWrite down the reasoning for each step.\": 0.05,\n",
    "        \"{}\\nYou can call a calculator for this problem to obtain correct intermediate results. Make sure to solve it correctly.\": 0.05,\n",
    "        \"I'm stuck with this problem. Please help me solve it. You are allowed to utilize a calculator to minimize risk of wrong computation.\\n{}\": 0.05,\n",
    "        \"Can you explain to me how to solve this?\\n{}\\n\\nDon't try to compute it manually, just use a calculator.\": 0.05,\n",
    "        \"{}\\n\\nI don't know how to solve this. Write down each step in words and explicitely annotate each calculation.\": 0.05,\n",
    "    },\n",
    "    \"ape210k\": {\n",
    "        \"Solve the math problem. Use a calculator for all calculations. Do **not** write down the reasoning. {}\": 0.2,\n",
    "        \"Solve this problem. Use a calculator program. No explanations are allowed, just write all intermediate steps. {}\": 0.2,\n",
    "        \"{}\\nNo need to write down how you solved it. Just call calculator API to obtain intermediate values.\": 0.2,\n",
    "        \"Answer this question: {} No explanations are allowed, but explicitly state each computation.\": 0.2,\n",
    "        \"{}\\n\\n\\nYou must use a only html-like tags to format your answer. Free-text is forbidden.\": 0.2,\n",
    "    },\n",
    "    \"aqua_rat\": {\n",
    "        \"Solve this: {}\\nYou can use a calculator, but you don't have to. Good formatting is not important.\": 0.2,\n",
    "        \"Answer the question. Explain your reasoning step-by-step, but no need to be thorough. You can call calculator API when it's convenient.\\n{}\": 0.2,\n",
    "        \"{}\\n\\n\\nCan you explain how to find the solution step-by-step? you can use function calling with a calculator app, but it's not that important.\": 0.2,\n",
    "        \"Explain how to solve this:\\n\\n{}\\ncalculations tags as annotation are not required but can be used. Don't worry about formatting much, just get to the answer.\": 0.2,\n",
    "        \"You can see a math problem below. Write down the solution step-by-step. You can use a calculator. Although, neither calculator calls or nice formatting are strictly necessary.\\n\\t{}\": 0.2,\n",
    "    },\n",
    "    \"math_qa\": {\n",
    "        \"{}Don't try to eliminate answer choices, just compute the answer and then check if it's in the options. Use calculator but don't write down the reasoning.\": 0.2,\n",
    "        \"{}\\nCompute the answer and then select the corresponding choice. Keep the output structured as a sequence of calculations and output tags.\": 0.2,\n",
    "        \"Try to solve this problem using a calculator function. Then find the answer in the choices. Avoid free-text rationales, stick to calculations only.\\n{}\": 0.2,\n",
    "        \"Solve this word problem with a series of calculator API calls. No explanations are allowed, just write down all intermediate calculations. {}\": 0.2,\n",
    "        \"You have access to a calculator program. Use it to find the solution.\\n{}\\nAvoid unstructured text, record computations only.\": 0.2,\n",
    "    },\n",
    "}\n",
    "\n",
    "templates[\"svamp\"] = templates[\"ape210k\"]\n",
    "templates[\"asdiv_a\"] = templates[\"ape210k\"]\n",
    "templates[\"mawps\"] = templates[\"ape210k\"]\n",
    "\n",
    "\n",
    "for ds_name in calcx_ds_names:\n",
    "    ds_templates = templates[ds_name]\n",
    "    assert all(\"{}\" in template for template in ds_templates.keys())\n",
    "    weights = np.array(list(ds_templates.values()))\n",
    "    assert np.isclose(weights.sum(), 1.0)\n",
    "    assert np.all(weights >= 0.0)\n",
    "    assert np.all(weights <= 1.0)\n"
   ]
  },
  {
   "cell_type": "code",
   "execution_count": 11,
   "metadata": {},
   "outputs": [],
   "source": [
    "instructions_ds = datasets.DatasetDict({})\n",
    "\n",
    "for ds_name, templs in templates.items():\n",
    "    templs_df = pd.DataFrame(templs.items(), columns=[\"template\", \"weight\"])\n",
    "    templs_ds = datasets.Dataset.from_pandas(templs_df)\n",
    "    instructions_ds[ds_name] = templs_ds"
   ]
  },
  {
   "cell_type": "code",
   "execution_count": 14,
   "metadata": {},
   "outputs": [
    {
     "data": {
      "text/plain": [
       "DatasetDict({\n",
       "    gsm8k: Dataset({\n",
       "        features: ['template', 'weight'],\n",
       "        num_rows: 11\n",
       "    })\n",
       "    ape210k: Dataset({\n",
       "        features: ['template', 'weight'],\n",
       "        num_rows: 5\n",
       "    })\n",
       "    aqua_rat: Dataset({\n",
       "        features: ['template', 'weight'],\n",
       "        num_rows: 5\n",
       "    })\n",
       "    math_qa: Dataset({\n",
       "        features: ['template', 'weight'],\n",
       "        num_rows: 5\n",
       "    })\n",
       "    svamp: Dataset({\n",
       "        features: ['template', 'weight'],\n",
       "        num_rows: 5\n",
       "    })\n",
       "    asdiv_a: Dataset({\n",
       "        features: ['template', 'weight'],\n",
       "        num_rows: 5\n",
       "    })\n",
       "    mawps: Dataset({\n",
       "        features: ['template', 'weight'],\n",
       "        num_rows: 5\n",
       "    })\n",
       "})"
      ]
     },
     "execution_count": 14,
     "metadata": {},
     "output_type": "execute_result"
    }
   ],
   "source": [
    "instructions_ds"
   ]
  },
  {
   "cell_type": "code",
   "execution_count": 15,
   "metadata": {},
   "outputs": [
    {
     "data": {
      "application/vnd.jupyter.widget-view+json": {
       "model_id": "21b95a66352542d2a51830fd259092e2",
       "version_major": 2,
       "version_minor": 0
      },
      "text/plain": [
       "Pushing dataset shards to the dataset hub:   0%|          | 0/1 [00:00<?, ?it/s]"
      ]
     },
     "metadata": {},
     "output_type": "display_data"
    },
    {
     "data": {
      "application/vnd.jupyter.widget-view+json": {
       "model_id": "d03e84f4d05f4c5e8ea2f11efc87f89b",
       "version_major": 2,
       "version_minor": 0
      },
      "text/plain": [
       "Creating parquet from Arrow format:   0%|          | 0/1 [00:00<?, ?ba/s]"
      ]
     },
     "metadata": {},
     "output_type": "display_data"
    },
    {
     "data": {
      "application/vnd.jupyter.widget-view+json": {
       "model_id": "2e1eaa6d121c49cdb6e76ee2acd25699",
       "version_major": 2,
       "version_minor": 0
      },
      "text/plain": [
       "Deleting unused files from dataset repository:   0%|          | 0/1 [00:00<?, ?it/s]"
      ]
     },
     "metadata": {},
     "output_type": "display_data"
    },
    {
     "data": {
      "application/vnd.jupyter.widget-view+json": {
       "model_id": "bf3c437ca30f465a96b1a6b1340839ca",
       "version_major": 2,
       "version_minor": 0
      },
      "text/plain": [
       "Pushing dataset shards to the dataset hub:   0%|          | 0/1 [00:00<?, ?it/s]"
      ]
     },
     "metadata": {},
     "output_type": "display_data"
    },
    {
     "data": {
      "application/vnd.jupyter.widget-view+json": {
       "model_id": "6a9fefb2928f49ca956417fa79095eb8",
       "version_major": 2,
       "version_minor": 0
      },
      "text/plain": [
       "Creating parquet from Arrow format:   0%|          | 0/1 [00:00<?, ?ba/s]"
      ]
     },
     "metadata": {},
     "output_type": "display_data"
    },
    {
     "data": {
      "application/vnd.jupyter.widget-view+json": {
       "model_id": "3e06a4aa5d1949a4a11a5098a1945d98",
       "version_major": 2,
       "version_minor": 0
      },
      "text/plain": [
       "Deleting unused files from dataset repository:   0%|          | 0/1 [00:00<?, ?it/s]"
      ]
     },
     "metadata": {},
     "output_type": "display_data"
    },
    {
     "data": {
      "application/vnd.jupyter.widget-view+json": {
       "model_id": "6450c5f5686847ee8f17897b694aef9a",
       "version_major": 2,
       "version_minor": 0
      },
      "text/plain": [
       "Pushing dataset shards to the dataset hub:   0%|          | 0/1 [00:00<?, ?it/s]"
      ]
     },
     "metadata": {},
     "output_type": "display_data"
    },
    {
     "data": {
      "application/vnd.jupyter.widget-view+json": {
       "model_id": "a16c871217064803939e784c95ddb440",
       "version_major": 2,
       "version_minor": 0
      },
      "text/plain": [
       "Creating parquet from Arrow format:   0%|          | 0/1 [00:00<?, ?ba/s]"
      ]
     },
     "metadata": {},
     "output_type": "display_data"
    },
    {
     "data": {
      "application/vnd.jupyter.widget-view+json": {
       "model_id": "76d33d93b7884dc9978680463fad285b",
       "version_major": 2,
       "version_minor": 0
      },
      "text/plain": [
       "Deleting unused files from dataset repository:   0%|          | 0/1 [00:00<?, ?it/s]"
      ]
     },
     "metadata": {},
     "output_type": "display_data"
    },
    {
     "data": {
      "application/vnd.jupyter.widget-view+json": {
       "model_id": "4a3c924f439344fd9785ac970bc4025c",
       "version_major": 2,
       "version_minor": 0
      },
      "text/plain": [
       "Pushing dataset shards to the dataset hub:   0%|          | 0/1 [00:00<?, ?it/s]"
      ]
     },
     "metadata": {},
     "output_type": "display_data"
    },
    {
     "data": {
      "application/vnd.jupyter.widget-view+json": {
       "model_id": "ac79e902b2b843a08e9cbfbc300f00af",
       "version_major": 2,
       "version_minor": 0
      },
      "text/plain": [
       "Creating parquet from Arrow format:   0%|          | 0/1 [00:00<?, ?ba/s]"
      ]
     },
     "metadata": {},
     "output_type": "display_data"
    },
    {
     "data": {
      "application/vnd.jupyter.widget-view+json": {
       "model_id": "1d8180b58b9e437faefa6e3e4dc4d1a2",
       "version_major": 2,
       "version_minor": 0
      },
      "text/plain": [
       "Deleting unused files from dataset repository:   0%|          | 0/1 [00:00<?, ?it/s]"
      ]
     },
     "metadata": {},
     "output_type": "display_data"
    },
    {
     "data": {
      "application/vnd.jupyter.widget-view+json": {
       "model_id": "3f863108e5f14274beca0b4e4cc43f2a",
       "version_major": 2,
       "version_minor": 0
      },
      "text/plain": [
       "Pushing dataset shards to the dataset hub:   0%|          | 0/1 [00:00<?, ?it/s]"
      ]
     },
     "metadata": {},
     "output_type": "display_data"
    },
    {
     "data": {
      "application/vnd.jupyter.widget-view+json": {
       "model_id": "eadbb59ee7664c34a8e7fe737659f46c",
       "version_major": 2,
       "version_minor": 0
      },
      "text/plain": [
       "Creating parquet from Arrow format:   0%|          | 0/1 [00:00<?, ?ba/s]"
      ]
     },
     "metadata": {},
     "output_type": "display_data"
    },
    {
     "data": {
      "application/vnd.jupyter.widget-view+json": {
       "model_id": "a0cccb2a12ca43a5bb697a7b60df241c",
       "version_major": 2,
       "version_minor": 0
      },
      "text/plain": [
       "Deleting unused files from dataset repository:   0%|          | 0/1 [00:00<?, ?it/s]"
      ]
     },
     "metadata": {},
     "output_type": "display_data"
    },
    {
     "data": {
      "application/vnd.jupyter.widget-view+json": {
       "model_id": "1cb2b51c9bf842b1b1f0e527c6e4c576",
       "version_major": 2,
       "version_minor": 0
      },
      "text/plain": [
       "Pushing dataset shards to the dataset hub:   0%|          | 0/1 [00:00<?, ?it/s]"
      ]
     },
     "metadata": {},
     "output_type": "display_data"
    },
    {
     "data": {
      "application/vnd.jupyter.widget-view+json": {
       "model_id": "1d260cf3382c4f0abe654dc1e68168da",
       "version_major": 2,
       "version_minor": 0
      },
      "text/plain": [
       "Creating parquet from Arrow format:   0%|          | 0/1 [00:00<?, ?ba/s]"
      ]
     },
     "metadata": {},
     "output_type": "display_data"
    },
    {
     "data": {
      "application/vnd.jupyter.widget-view+json": {
       "model_id": "af5caf04bf1d45f7bdb1ea7e077bb5d3",
       "version_major": 2,
       "version_minor": 0
      },
      "text/plain": [
       "Deleting unused files from dataset repository:   0%|          | 0/1 [00:00<?, ?it/s]"
      ]
     },
     "metadata": {},
     "output_type": "display_data"
    },
    {
     "data": {
      "application/vnd.jupyter.widget-view+json": {
       "model_id": "abf92211cce74d76a65ab79be4cf5fd8",
       "version_major": 2,
       "version_minor": 0
      },
      "text/plain": [
       "Pushing dataset shards to the dataset hub:   0%|          | 0/1 [00:00<?, ?it/s]"
      ]
     },
     "metadata": {},
     "output_type": "display_data"
    },
    {
     "data": {
      "application/vnd.jupyter.widget-view+json": {
       "model_id": "c896fb8f5a174adfbaf14b28bbedcfe2",
       "version_major": 2,
       "version_minor": 0
      },
      "text/plain": [
       "Creating parquet from Arrow format:   0%|          | 0/1 [00:00<?, ?ba/s]"
      ]
     },
     "metadata": {},
     "output_type": "display_data"
    },
    {
     "data": {
      "application/vnd.jupyter.widget-view+json": {
       "model_id": "af6cf8189810458b8fdfa6201f50b8ed",
       "version_major": 2,
       "version_minor": 0
      },
      "text/plain": [
       "Deleting unused files from dataset repository:   0%|          | 0/1 [00:00<?, ?it/s]"
      ]
     },
     "metadata": {},
     "output_type": "display_data"
    },
    {
     "data": {
      "application/vnd.jupyter.widget-view+json": {
       "model_id": "c45f73131e3a4aaab6d3fee85c4e3a9e",
       "version_major": 2,
       "version_minor": 0
      },
      "text/plain": [
       "Downloading metadata:   0%|          | 0.00/794 [00:00<?, ?B/s]"
      ]
     },
     "metadata": {},
     "output_type": "display_data"
    }
   ],
   "source": [
    "instructions_ds.push_to_hub(\"mu-nlpc/Calc-X_instructions\")"
   ]
  }
 ],
 "metadata": {
  "kernelspec": {
   "display_name": "gadgets",
   "language": "python",
   "name": "python3"
  },
  "language_info": {
   "codemirror_mode": {
    "name": "ipython",
    "version": 3
   },
   "file_extension": ".py",
   "mimetype": "text/x-python",
   "name": "python",
   "nbconvert_exporter": "python",
   "pygments_lexer": "ipython3",
   "version": "3.10.13"
  }
 },
 "nbformat": 4,
 "nbformat_minor": 2
}
