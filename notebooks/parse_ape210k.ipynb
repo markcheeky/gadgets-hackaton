{
 "cells": [
  {
   "cell_type": "code",
   "execution_count": 19,
   "metadata": {},
   "outputs": [
    {
     "name": "stdout",
     "output_type": "stream",
     "text": [
      "INFO: Pandarallel will run on 40 workers.\n",
      "INFO: Pandarallel will use Memory file system to transfer data between the main process and workers.\n"
     ]
    }
   ],
   "source": [
    "import warnings\n",
    "from typing import Iterable\n",
    "\n",
    "import datasets\n",
    "import pandas as pd\n",
    "import numpy as np\n",
    "import sympy\n",
    "import lark\n",
    "import pandarallel\n",
    "from tqdm.auto import tqdm\n",
    "\n",
    "import gadgets\n",
    "\n",
    "tqdm.pandas()\n",
    "pandarallel.pandarallel.initialize(progress_bar=True)"
   ]
  },
  {
   "cell_type": "code",
   "execution_count": 20,
   "metadata": {},
   "outputs": [],
   "source": [
    "df = {\n",
    "    \"train\": pd.read_json(\"../data/ape210k/my_train.ape.jsonl\", lines=True),\n",
    "    \"valid\": pd.read_json(\"../data/ape210k/my_valid.ape.jsonl\", lines=True),\n",
    "    \"test\": pd.read_json(\"../data/ape210k/my_tests.ape.jsonl\", lines=True),\n",
    "}"
   ]
  },
  {
   "cell_type": "code",
   "execution_count": 21,
   "metadata": {},
   "outputs": [],
   "source": [
    "grammar = \"\"\"\n",
    "?start: expr\n",
    "\n",
    "?expr: neg\n",
    "\n",
    "?atom: num\n",
    "    | implicit_mul\n",
    "    | \"(\" expr \")\"\n",
    "\n",
    "implicit_mul: num ( \"(\" expr \")\" )+\n",
    "            | \"(\" expr \")\" ( \"(\" expr \")\" )+\n",
    "\n",
    "?neg: add\n",
    "    | \"-\" neg -> neg\n",
    "    | \"-\" add -> neg\n",
    "?add: sub\n",
    "    | sub (\"+\" sub)+ -> add\n",
    "?sub: mul\n",
    "    | mul (\"-\" mul)+ -> sub\n",
    "?mul: div\n",
    "    | div (\"*\" div)+ -> mul\n",
    "?div: pow\n",
    "    | pow (\"/\" pow)+ -> div\n",
    "?pow: perc\n",
    "    | perc (\"**\" perc)+ -> pow\n",
    "?perc: atom \"%\" -> perc\n",
    "     | atom\n",
    "?num: SIGNED_NUMBER\n",
    "\n",
    "%import common.SIGNED_NUMBER\n",
    "%import common.WS\n",
    "%ignore WS\n",
    "\"\"\"\n",
    "\n"
   ]
  },
  {
   "cell_type": "code",
   "execution_count": 22,
   "metadata": {},
   "outputs": [],
   "source": [
    "class TreeEvaluator:\n",
    "\n",
    "    def __init__(self, calc: gadgets.gadget.Calculator, parser: lark.Lark) -> None:\n",
    "        self.cache = {}\n",
    "        self.calc = calc\n",
    "        self.parser = parser\n",
    "\n",
    "    def eval_tree(self, tree: lark.Tree | lark.Token) -> tuple[str, sympy.Expr]:\n",
    "        if tree not in self.cache:\n",
    "            self.cache[tree] = self._eval_tree(tree)\n",
    "        return self.cache[tree]\n",
    "\n",
    "    def _eval_tree(self, tree: lark.Tree | lark.Token) -> tuple[str, sympy.Expr]:\n",
    "        if isinstance(tree, lark.Token):\n",
    "            if tree.type in (\"SIGNED_NUMBER\", \"NUMBER\"):\n",
    "                return None, self.calc.evaluate(tree.value)\n",
    "            else:\n",
    "                raise ValueError(f\"unknown token {tree}\")\n",
    "        \n",
    "        assert isinstance(tree.data, str)\n",
    "        operation = tree.data\n",
    "        args_nodes = tree.children\n",
    "        args = [self._format_arg(self.eval_tree(arg_node)[1]) for arg_node in args_nodes]\n",
    "        inputs = self._format_op(operation, args)\n",
    "        return inputs, self.calc.evaluate(inputs)\n",
    "    \n",
    "    def _format_op(self, op: str, args: list[str]) -> str:\n",
    "        if op == \"neg\":\n",
    "            assert len(args) == 1\n",
    "            return \"-\" + args[0]\n",
    "        if op == \"add\" or op == \"implicit_add\":\n",
    "            return \" + \".join(args)  \n",
    "        if op == \"sub\":\n",
    "            return \" - \".join(args)\n",
    "        if op == \"mul\" or op == \"implicit_mul\":\n",
    "            return \" * \".join(args)\n",
    "        if op == \"div\":\n",
    "            return \" / \".join(args)\n",
    "        if op == \"pow\":\n",
    "            return \" ** \".join(args)\n",
    "        if op == \"perc\":\n",
    "            assert len(args) == 1\n",
    "            return f\"{args[0]} / 100\"\n",
    "        raise ValueError(f\"unknown operation {op}\")\n",
    "\n",
    "    def _format_arg(self, value_expr: sympy.Number) -> str:\n",
    "        value_str = self.calc.format_sympy_number(value_expr, add_approx=False)\n",
    "        if isinstance(value_expr, sympy.core.function.Application):\n",
    "            return value_str\n",
    "        if isinstance(value_expr, (sympy.Float, sympy.Integer, sympy.NumberSymbol)):\n",
    "            if value_expr < 0:\n",
    "                return \"(\" + value_str + \")\"\n",
    "            return value_str\n",
    "        if isinstance(value_expr, sympy.Rational):\n",
    "            return \"(\" + value_str + \")\"\n",
    "        if isinstance(value_expr, (sympy.Mul, sympy.Pow, sympy.Add)):\n",
    "            return \"(\" + value_str + \")\"\n",
    "        warnings.warn(f\"weird value type {type(value_expr)} for {value_expr} (string: '{value_str}')\")\n",
    "        return \"(\" + value_str + \")\"\n",
    "\n",
    "    def dfs(self, tree: lark.Tree | lark.Token) -> Iterable[lark.Tree | lark.Token]:\n",
    "        if isinstance(tree, lark.Tree):\n",
    "            for child in tree.children:\n",
    "                yield from self.dfs(child)\n",
    "        yield tree\n",
    "\n",
    "    def expr_to_steps(self, expr: str, drop_repeated: bool = True) -> tuple[list[gadgets.datatypes.Interaction], sympy.Expr]:\n",
    "        tree = self.parser.parse(expr)\n",
    "        steps = []\n",
    "        for subtree in self.dfs(tree):\n",
    "            step = self.eval_tree(subtree)\n",
    "            if step is None:\n",
    "                continue\n",
    "            if step[0] is None:\n",
    "                continue\n",
    "            inputs, output_expr = step\n",
    "            interaction = gadgets.datatypes.Interaction(\n",
    "                gadget_id=\"calculator\",\n",
    "                inputs=inputs,\n",
    "                outputs=self.calc.format_sympy_number(output_expr),\n",
    "            )\n",
    "            if drop_repeated and interaction in steps:\n",
    "                continue\n",
    "            steps.append(interaction)\n",
    "            \n",
    "        _, result = self.eval_tree(tree)\n",
    "        return steps, result\n",
    "    "
   ]
  },
  {
   "cell_type": "code",
   "execution_count": 23,
   "metadata": {},
   "outputs": [
    {
     "data": {
      "text/plain": [
       "([Interaction(gadget_id='calculator', inputs='(-1) / (-5)', outputs='1/5 = around 0.2'),\n",
       "  Interaction(gadget_id='calculator', inputs='1 / 4_000', outputs='1/4_000 = around 0.00025'),\n",
       "  Interaction(gadget_id='calculator', inputs='(1/4_000) / 100', outputs='1/400_000 = around 0.000002'),\n",
       "  Interaction(gadget_id='calculator', inputs='1 - (1/5) - (1/400_000)', outputs='319_999/400_000 = around 0.799998')],\n",
       " 319999/400000)"
      ]
     },
     "execution_count": 23,
     "metadata": {},
     "output_type": "execute_result"
    }
   ],
   "source": [
    "calc = gadgets.gadget.Calculator()\n",
    "parser = lark.Lark(grammar)\n",
    "\n",
    "TreeEvaluator(calc, parser).expr_to_steps(\"1-(-1/-5)-(1/4000)%\")"
   ]
  },
  {
   "cell_type": "code",
   "execution_count": 24,
   "metadata": {},
   "outputs": [
    {
     "data": {
      "text/plain": [
       "Index(['id', 'question_chinese', 'question_english_mt', 'equation', 'result'], dtype='object')"
      ]
     },
     "execution_count": 24,
     "metadata": {},
     "output_type": "execute_result"
    }
   ],
   "source": [
    "df[\"valid\"].columns"
   ]
  },
  {
   "cell_type": "code",
   "execution_count": 25,
   "metadata": {},
   "outputs": [],
   "source": [
    "def try_stepify(expr: str) -> tuple[list[gadgets.datatypes.Interaction], sympy.Expr] | tuple[None, None]:\n",
    "    evaluator = TreeEvaluator(calc, parser)\n",
    "    expr = expr.removeprefix(\"x=\").replace(\":\", \"/\").lstrip(\"+\")\n",
    "    try:\n",
    "        chain, result = evaluator.expr_to_steps(expr)\n",
    "        result_str = calc.format_sympy_number(result)\n",
    "        return chain, result, str(gadgets.markup.to_model_markup(chain=chain, result=result_str))\n",
    "    except Exception:\n",
    "        print(f\"failed to parse {expr}\")\n",
    "        return None, None, None\n",
    "\n",
    "def try_result_eval(expr: str) -> sympy.Expr:\n",
    "    evaluator = TreeEvaluator(calc, parser)\n",
    "    expr = expr.replace(\":\", \"/\").lstrip(\"+\")\n",
    "    try:\n",
    "        inputs, output = evaluator.expr_to_steps(expr)\n",
    "        return output\n",
    "    except Exception:\n",
    "        print(f\"failed to parse {expr}\")\n",
    "        return None\n"
   ]
  },
  {
   "cell_type": "code",
   "execution_count": 26,
   "metadata": {},
   "outputs": [
    {
     "data": {
      "application/vnd.jupyter.widget-view+json": {
       "model_id": "8a6ffbb1d73144c390efbcaa8e2f6818",
       "version_major": 2,
       "version_minor": 0
      },
      "text/plain": [
       "VBox(children=(HBox(children=(IntProgress(value=0, description='0.00%', max=5013), Label(value='0 / 5013'))), …"
      ]
     },
     "metadata": {},
     "output_type": "display_data"
    },
    {
     "name": "stdout",
     "output_type": "stream",
     "text": [
      "failed to parse (-(9/-((9/1)-(10/1)))+(10/-((9/1)-(10/1))))-((-(9/-((9/1)-(10/1)))+(10/-((9/1)-(10/1))))/2)+((-(9/-((9/1)-(10/1)))+(10/-((9/1)-(10/1))))/10)\n",
      "failed to parse 1-(1/+(2048/1))\n",
      "failed to parse (((+(2005/2005)+2005)*2005/2)/2005)\n",
      "failed to parse (1+(10/1))*+(10/1)/2\n",
      "failed to parse 1003+((+((2006**2+1)/(2006**2-1))+(2/(2005*2007)))-((+((2006**2+1)/(2006**2-1))+(2/(2005*2007)))/2007))\n",
      "failed to parse 1*(2004/(+(3-2)+1))+1\n",
      "failed to parse 10.75/(1+(+(3/1)/4)+(1/2))\n",
      "failed to parse (((+(1990/1990)+1990)*1990/2)/1990)\n",
      "failed to parse (16/(4-(16/10)*2))*((16/10)++(4-(16/10)*2))\n",
      "failed to parse 6.3+6.3*(3/+(2/1))failed to parse 1-(1/+(256/1))\n",
      "\n",
      "failed to parse 1+(1/2)-(1/+(128/1))\n",
      "failed to parse 102-101+100/+(4+3-2-1)*+(4+3-2-1)\n",
      "failed to parse 2*+(999-1)*((+(999-1)+999-(999-1))/2)\n",
      "failed to parse (1/2)-(1/+(512/1))\n",
      "failed to parse (1+(1991/1))*+(1991/1)/2\n",
      "failed to parse (39*(22*+(+((+(+((+(+((+(+((3/1)/1)/1)/1)/1)/1)/1)/1)/1)/1)/1)/1)-(22+25+34+39)/2)/2-(22+25+34+39)/2)/2\n",
      "failed to parse (+9(1/2))+(-3(7/3))+8(1/2)+(+(3/7))\n",
      "failed to parse (80+28-80*90%)/(80*90%%)%\n",
      "failed to parse 100*1.2*(1-100*40%%)/(1.2*(1-(1/6)))+100*40%\n",
      "failed to parse (1/+(101/1))\n",
      "failed to parse 1*(2011-1)/(+(3-2)+1)+1\n",
      "failed to parse (1993-(+1991-1992+1993))+((1993-(1993-(+1991-1992+1993)))/2)*+(1993-(+1991-1992+1993))\n",
      "failed to parse 26-(+((2/1)/1)/(+(3/1)/1))*(36-26)/(((+(3/1)/1)/+((2/1)/1))-(+((2/1)/1)/(+(3/1)/1)))\n",
      "failed to parse 8/100*200*20%+5/10*200*200*20%%+8/10*200*200*20%%\n",
      "failed to parse 50*+(100-99)\n",
      "failed to parse (1/+(666/1))*333\n",
      "failed to parse (1/2008)-(1/+(1/(2008*2009))+(2009/1))+(1/+(1/(2008*2009))+(2009/1))\n",
      "failed to parse 1-(1/+(128/1))\n",
      "failed to parse (+(100/100)+50)*50/2+(50.5+1.5)*50/2\n",
      "failed to parse (+(20/20)+10.5)*20/2\n",
      "failed to parse (1/2)*(1+(30/1))*+(30/1)\n",
      "failed to parse (1/1004)*(1/+((2006/1)+1))\n",
      "failed to parse (1/5)*2-(1/+(1280/1))\n",
      "failed to parse (1/(6/+(+2/1)))\n",
      "failed to parse (1/((1+(2015/1))*+(2015/1)/2))\n",
      "failed to parse 2008+(2007-(+(3-(+3-2+1))+1)+1)/(+(3-(+3-2+1))+1)*1+1\n",
      "failed to parse 2003++(6-5)+(-4+3)+(2-1)-(6-5)+(-4+3)+(2-1)+(6-5)+(-4+3)+(2-1)\n",
      "failed to parse 1-(1/+(128/1))\n",
      "failed to parse (1/+(+((+((3/1)/1)/1)/1)/1))\n",
      "failed to parse 101+1*(100-(+(5-4)+(3-(+3-2+1))))/(+(5-4)+(3-(+3-2+1)))\n",
      "failed to parse ((44/(1-((1/4)+(1/5))))-44)/(1+(1-(2/19)))*+(1-(2/19))\n",
      "failed to parse 1006+((+((2012*2012)/(2011*2013))+(+((2012*2012)/(2011*2013))/(2011*2013)))/2)*((+((2012*2012)/(2011*2013))+(+((2012*2012)/(2011*2013))/(2011*2013)))-((+((2012*2012)/(2011*2013))+(+((2012*2012)/(2011*2013))/(2011*2013)))/2013))\n",
      "failed to parse (8-100*40%%*8)/(100*40%%)\n",
      "failed to parse (200+400)*200*4%%-200*4%+(200+400)*2%\n",
      "failed to parse 2.4/(60%-(1-40%))*60%\n",
      "failed to parse (1000-10)/(+(14-13)+(12-11))*1\n",
      "failed to parse (1+8%-1-6.4%-6.4%*8%)/(1%+6.4%%-1%)%\n",
      "failed to parse 7/14%-(7/14%*7/14%%+7/14%*(2/5)-7)\n",
      "failed to parse (+((1987/1998)*(1998/1987))/2)*+((1987/1998)*(1998/1987))\n",
      "failed to parse (1/2001)-(1/2002)+(1/2002)-(1/+(1/(2001*2002))+(1/(2002*2003))+(2003/1))+(1/+(1/(2001*2002))+(1/(2002*2003))+(2003/1))\n",
      "failed to parse ((-(9/-((9/1)-(10/1)))+(10/-((9/1)-(10/1))))/10)\n",
      "failed to parse 1006+(((+((2013**2+1)/(2013**2-1))+(2/(2013**2-((2013**2+1)/(2013**2-1)))))/2)-((+((2013**2+1)/(2013**2-1))+(2/(2013**2-((2013**2+1)/(2013**2-1)))))/2014))\n",
      "failed to parse (1+(80-(+80-40)))*+(80-(+80-40))/2\n",
      "failed to parse 1-(1/+(64/1))\n",
      "failed to parse ((-(9/-((9/1)-(10/1)))+(10/-((9/1)-(10/1))))/10)\n",
      "failed to parse (24/5+8/3-64/15)/(1/+(6/1))\n",
      "failed to parse ((25+(75+550-375)/2*75/(75+550))/(375+(75+550-375)/2))*500*20%%\n",
      "failed to parse 503*+(4-(+4-2))\n",
      "failed to parse 0+2-(+(6-5-4+3)+2-(+6-5-4+3+2-1))\n",
      "failed to parse (+((+4**2-3**2-2**2+1**2)**2-3**2)-(2**2-1**2)+3-2-1)*25\n",
      "failed to parse (24/5+8/3-64/15)/(1/+(6/1))\n",
      "failed to parse 98+(5-4)-(3-2)+1-(5-4)-(3-2)+1+(5-4)-(3-2)+1-(5-4)-(3-2)+1+(5-4)-(3-2)+1-(5-4)-(3-2)+1++(5-4)-(3-2)+1-(5-4)-(3-2)+1+(5-4)-(3-2)+1\n",
      "failed to parse (1+25%-1)/(1%+25%%)%\n",
      "failed to parse (1/8)-(1/+(+(+(10/1)*(8/1)/1)/1))\n",
      "failed to parse ((+(((199*48)/97)+((199*49)/97))*(1+96))/97)*48\n",
      "failed to parse 4000+((+((2000**2+2001**2)/(2000*2001))+((2000/1)-(2001/1)))-((+((2000**2+2001**2)/(2000*2001))+((2000/1)-(2001/1)))/2001))\n",
      "failed to parse (+(1+100-1)+1)*50\n",
      "failed to parse ((7*(7+1)*(7+2)/6)/+(36/1))\n",
      "failed to parse ((2009-2)/3+(2000-1999))*+(2000-1999)\n",
      "failed to parse (198+197-196-195)*((1998-195+1)/+(198+197-196-195))\n",
      "failed to parse (1003-(1003-1002))*+(1003-(1003-1002))\n"
     ]
    },
    {
     "data": {
      "application/vnd.jupyter.widget-view+json": {
       "model_id": "0adb65ba91d64d0a8a36fd937e414841",
       "version_major": 2,
       "version_minor": 0
      },
      "text/plain": [
       "VBox(children=(HBox(children=(IntProgress(value=0, description='0.00%', max=125), Label(value='0 / 125'))), HB…"
      ]
     },
     "metadata": {},
     "output_type": "display_data"
    },
    {
     "name": "stdout",
     "output_type": "stream",
     "text": [
      "failed to parse 1.8/(1.2/(60*100000))/100000\n",
      "failed to parse (1007-1)*+(1007-1)\n"
     ]
    },
    {
     "data": {
      "application/vnd.jupyter.widget-view+json": {
       "model_id": "97ffc78dfeda4eb789471bf393e7cab7",
       "version_major": 2,
       "version_minor": 0
      },
      "text/plain": [
       "VBox(children=(HBox(children=(IntProgress(value=0, description='0.00%', max=125), Label(value='0 / 125'))), HB…"
      ]
     },
     "metadata": {},
     "output_type": "display_data"
    },
    {
     "name": "stdout",
     "output_type": "stream",
     "text": [
      "failed to parse 1-(1/+(512/1))\n",
      "failed to parse (+(100/100)+(5050/100))*100/2\n",
      "failed to parse (2/+(3/1))\n",
      "failed to parse (2950+25-+(1998-1997))*25-(2949+25-+(1998-1997))*25\n"
     ]
    }
   ],
   "source": [
    "for split in df.keys():\n",
    "    df[split][\"chain_list\"], df[split][\"my_result\"], df[split][\"chain_markup\"] = zip(*df[split][\"equation\"].parallel_apply(try_stepify))"
   ]
  },
  {
   "cell_type": "code",
   "execution_count": 27,
   "metadata": {},
   "outputs": [
    {
     "data": {
      "application/vnd.jupyter.widget-view+json": {
       "model_id": "c375cca4dd2f4c2d934aaa729ed43a28",
       "version_major": 2,
       "version_minor": 0
      },
      "text/plain": [
       "VBox(children=(HBox(children=(IntProgress(value=0, description='0.00%', max=5013), Label(value='0 / 5013'))), …"
      ]
     },
     "metadata": {},
     "output_type": "display_data"
    },
    {
     "name": "stdout",
     "output_type": "stream",
     "text": [
      "failed to parse 25%%\n",
      "failed to parse 100%%\n"
     ]
    },
    {
     "data": {
      "application/vnd.jupyter.widget-view+json": {
       "model_id": "3bb861b9e24147bfa48b5c619de2dfe0",
       "version_major": 2,
       "version_minor": 0
      },
      "text/plain": [
       "VBox(children=(HBox(children=(IntProgress(value=0, description='0.00%', max=125), Label(value='0 / 125'))), HB…"
      ]
     },
     "metadata": {},
     "output_type": "display_data"
    },
    {
     "data": {
      "application/vnd.jupyter.widget-view+json": {
       "model_id": "88957ae30ebb4afbb29d936e4ca5e428",
       "version_major": 2,
       "version_minor": 0
      },
      "text/plain": [
       "VBox(children=(HBox(children=(IntProgress(value=0, description='0.00%', max=125), Label(value='0 / 125'))), HB…"
      ]
     },
     "metadata": {},
     "output_type": "display_data"
    }
   ],
   "source": [
    "for split in df.keys():\n",
    "    df[split][\"result_eval\"] = df[split][\"result\"].parallel_apply(try_result_eval)"
   ]
  },
  {
   "cell_type": "code",
   "execution_count": 28,
   "metadata": {},
   "outputs": [
    {
     "name": "stdout",
     "output_type": "stream",
     "text": [
      "test 0.9746\n",
      "valid 0.9742\n",
      "train 0.9746269103387734\n"
     ]
    }
   ],
   "source": [
    "import math\n",
    "def eq(x, y, tol=1e-5):\n",
    "    if x is None or y is None:\n",
    "        return False\n",
    "    return math.isclose(x.evalf(), y.evalf(), abs_tol=tol)\n",
    "\n",
    "for name, split in reversed(df.items()):\n",
    "    df[name][\"result_eq\"] = [eq(x, y) for x, y in zip(split[\"my_result\"], split[\"result_eval\"])]\n",
    "    print(name, df[name][\"result_eq\"].mean())"
   ]
  },
  {
   "cell_type": "code",
   "execution_count": 29,
   "metadata": {},
   "outputs": [
    {
     "data": {
      "text/plain": [
       "Index(['id', 'question_chinese', 'question_english_mt', 'equation', 'result',\n",
       "       'chain_list', 'my_result', 'chain_markup', 'result_eval', 'result_eq'],\n",
       "      dtype='object')"
      ]
     },
     "execution_count": 29,
     "metadata": {},
     "output_type": "execute_result"
    }
   ],
   "source": [
    "df[\"train\"].columns"
   ]
  },
  {
   "cell_type": "code",
   "execution_count": 31,
   "metadata": {},
   "outputs": [
    {
     "data": {
      "text/plain": [
       "True"
      ]
     },
     "execution_count": 31,
     "metadata": {},
     "output_type": "execute_result"
    }
   ],
   "source": [
    "pd.concat(df.values())[\"id\"].is_unique"
   ]
  },
  {
   "cell_type": "code",
   "execution_count": 42,
   "metadata": {},
   "outputs": [],
   "source": [
    "id_format_len = len(str(pd.concat(df.values())[\"id\"].max())) + 1"
   ]
  },
  {
   "cell_type": "code",
   "execution_count": 43,
   "metadata": {},
   "outputs": [],
   "source": [
    "def export_split(split: pd.DataFrame):\n",
    "    orig_size = len(split)\n",
    "    # drop unparseable\n",
    "    split = split.dropna()\n",
    "    # drop with inconsistent results\n",
    "    split = split[split[\"result_eq\"]]\n",
    "    # drop with ambiguous result caused by implicit multiplication vs mixed fraction\n",
    "    split = split[~split[\"result\"].str.contains(\"\\d\\(\", regex=True)]\n",
    "    print(len(split) / orig_size)\n",
    "    return pd.DataFrame({\n",
    "        \"id\": \"ape210k__\" + split[\"id\"].astype(str).str.zfill(id_format_len),\n",
    "        \"question\": split[\"question_english_mt\"].str.strip(),\n",
    "        \"question_chinese\": split[\"question_chinese\"],\n",
    "        \"chain\": split[\"chain_markup\"].str.strip(),\n",
    "        \"result\": split[\"my_result\"].apply(calc.format_sympy_number, add_approx=False),\n",
    "        \"result_float\": split[\"my_result\"].apply(lambda x: float(x.evalf())),\n",
    "        \"equation\": split[\"equation\"],\n",
    "    })"
   ]
  },
  {
   "cell_type": "code",
   "execution_count": 44,
   "metadata": {},
   "outputs": [
    {
     "name": "stdout",
     "output_type": "stream",
     "text": [
      "0.9735196121463628\n",
      "0.9734\n",
      "0.9734\n"
     ]
    }
   ],
   "source": [
    "import os\n",
    "os.makedirs(\"../data/ape210k/processed-original-splits/\", exist_ok=True)\n",
    "\n",
    "for split in df.keys():\n",
    "    export_split(df[split]).to_json(f\"../data/ape210k/processed-original-splits/{split}.jsonl\", lines=True, orient=\"records\", force_ascii=False)"
   ]
  },
  {
   "cell_type": "code",
   "execution_count": 45,
   "metadata": {},
   "outputs": [
    {
     "data": {
      "application/vnd.jupyter.widget-view+json": {
       "model_id": "6bd30bfdf57440769fd03340adaec0e9",
       "version_major": 2,
       "version_minor": 0
      },
      "text/plain": [
       "Downloading data files:   0%|          | 0/3 [00:00<?, ?it/s]"
      ]
     },
     "metadata": {},
     "output_type": "display_data"
    },
    {
     "data": {
      "application/vnd.jupyter.widget-view+json": {
       "model_id": "de6c8b01f11846c8aea35c430c4311cc",
       "version_major": 2,
       "version_minor": 0
      },
      "text/plain": [
       "Extracting data files:   0%|          | 0/3 [00:00<?, ?it/s]"
      ]
     },
     "metadata": {},
     "output_type": "display_data"
    },
    {
     "data": {
      "application/vnd.jupyter.widget-view+json": {
       "model_id": "15ead23a369a4a1499cedc636746ed70",
       "version_major": 2,
       "version_minor": 0
      },
      "text/plain": [
       "Generating train split: 0 examples [00:00, ? examples/s]"
      ]
     },
     "metadata": {},
     "output_type": "display_data"
    },
    {
     "data": {
      "application/vnd.jupyter.widget-view+json": {
       "model_id": "b67687119a3a4382b73b9c81ec724186",
       "version_major": 2,
       "version_minor": 0
      },
      "text/plain": [
       "Generating validation split: 0 examples [00:00, ? examples/s]"
      ]
     },
     "metadata": {},
     "output_type": "display_data"
    },
    {
     "data": {
      "application/vnd.jupyter.widget-view+json": {
       "model_id": "1da8a55517b0464e9adcb0dc7f49e4db",
       "version_major": 2,
       "version_minor": 0
      },
      "text/plain": [
       "Generating test split: 0 examples [00:00, ? examples/s]"
      ]
     },
     "metadata": {},
     "output_type": "display_data"
    }
   ],
   "source": [
    "ds = datasets.load_dataset(\n",
    "    \"json\",\n",
    "    data_files={\n",
    "        \"train\": \"../data/ape210k/processed-original-splits/train.jsonl\",\n",
    "        \"validation\": \"../data/ape210k/processed-original-splits/valid.jsonl\",\n",
    "        \"test\": \"../data/ape210k/processed-original-splits/test.jsonl\",\n",
    "    }\n",
    ")"
   ]
  },
  {
   "cell_type": "code",
   "execution_count": 47,
   "metadata": {},
   "outputs": [
    {
     "data": {
      "text/plain": [
       "{'id': 'ape210k__00322189',\n",
       " 'question': ' 100 kilograms of peanuts can extract 39 kilograms of oil. According to this calculation, how many kilograms of oil can be extracted per kilogram of peanuts.',\n",
       " 'question_chinese': '100千克花生可榨油39千克，照这样计算，每千克花生可榨油多少千克．',\n",
       " 'chain': '\\n<gadget id=\"calculator\">39 / 100</gadget>\\n<output>39/100 = around 0.39</output>\\n\\n<result>39/100 = around 0.39</result>',\n",
       " 'result': '39/100',\n",
       " 'result_float': 0.39,\n",
       " 'equation': 'x=39/100'}"
      ]
     },
     "execution_count": 47,
     "metadata": {},
     "output_type": "execute_result"
    }
   ],
   "source": [
    "ds[\"train\"][1000]"
   ]
  },
  {
   "cell_type": "code",
   "execution_count": 48,
   "metadata": {},
   "outputs": [
    {
     "data": {
      "application/vnd.jupyter.widget-view+json": {
       "model_id": "3283d991c26040eb9545eef930d8df38",
       "version_major": 2,
       "version_minor": 0
      },
      "text/plain": [
       "Pushing dataset shards to the dataset hub:   0%|          | 0/1 [00:00<?, ?it/s]"
      ]
     },
     "metadata": {},
     "output_type": "display_data"
    },
    {
     "data": {
      "application/vnd.jupyter.widget-view+json": {
       "model_id": "c2fcda770a57438a832afcffe1d3a15f",
       "version_major": 2,
       "version_minor": 0
      },
      "text/plain": [
       "Creating parquet from Arrow format:   0%|          | 0/196 [00:00<?, ?ba/s]"
      ]
     },
     "metadata": {},
     "output_type": "display_data"
    },
    {
     "data": {
      "application/vnd.jupyter.widget-view+json": {
       "model_id": "9e4246d9d4e348ecb8a9732d5c511f0d",
       "version_major": 2,
       "version_minor": 0
      },
      "text/plain": [
       "Deleting unused files from dataset repository:   0%|          | 0/1 [00:00<?, ?it/s]"
      ]
     },
     "metadata": {},
     "output_type": "display_data"
    },
    {
     "data": {
      "application/vnd.jupyter.widget-view+json": {
       "model_id": "cbdfc98147f84bb1b1bc43294a61ae6b",
       "version_major": 2,
       "version_minor": 0
      },
      "text/plain": [
       "Pushing dataset shards to the dataset hub:   0%|          | 0/1 [00:00<?, ?it/s]"
      ]
     },
     "metadata": {},
     "output_type": "display_data"
    },
    {
     "data": {
      "application/vnd.jupyter.widget-view+json": {
       "model_id": "24efb015b8bb480db3e6582ef0b962bc",
       "version_major": 2,
       "version_minor": 0
      },
      "text/plain": [
       "Creating parquet from Arrow format:   0%|          | 0/5 [00:00<?, ?ba/s]"
      ]
     },
     "metadata": {},
     "output_type": "display_data"
    },
    {
     "data": {
      "application/vnd.jupyter.widget-view+json": {
       "model_id": "0cc3b2d1d7334c8883fa5a9d965f3921",
       "version_major": 2,
       "version_minor": 0
      },
      "text/plain": [
       "Deleting unused files from dataset repository:   0%|          | 0/1 [00:00<?, ?it/s]"
      ]
     },
     "metadata": {},
     "output_type": "display_data"
    },
    {
     "data": {
      "application/vnd.jupyter.widget-view+json": {
       "model_id": "71cadc1e588040ac84c679c16e77b52e",
       "version_major": 2,
       "version_minor": 0
      },
      "text/plain": [
       "Pushing dataset shards to the dataset hub:   0%|          | 0/1 [00:00<?, ?it/s]"
      ]
     },
     "metadata": {},
     "output_type": "display_data"
    },
    {
     "data": {
      "application/vnd.jupyter.widget-view+json": {
       "model_id": "4050464e5f5a4dfcacfbee69555d59da",
       "version_major": 2,
       "version_minor": 0
      },
      "text/plain": [
       "Creating parquet from Arrow format:   0%|          | 0/5 [00:00<?, ?ba/s]"
      ]
     },
     "metadata": {},
     "output_type": "display_data"
    },
    {
     "data": {
      "application/vnd.jupyter.widget-view+json": {
       "model_id": "5e0e307377714f828fcc8d04acc7faab",
       "version_major": 2,
       "version_minor": 0
      },
      "text/plain": [
       "Deleting unused files from dataset repository:   0%|          | 0/1 [00:00<?, ?it/s]"
      ]
     },
     "metadata": {},
     "output_type": "display_data"
    },
    {
     "data": {
      "application/vnd.jupyter.widget-view+json": {
       "model_id": "b17f8d1b70b34b06bba9da5572d4426a",
       "version_major": 2,
       "version_minor": 0
      },
      "text/plain": [
       "Downloading metadata:   0%|          | 0.00/3.62k [00:00<?, ?B/s]"
      ]
     },
     "metadata": {},
     "output_type": "display_data"
    }
   ],
   "source": [
    "# ds.push_to_hub(\"MU-NLPC/Calc-ape210k\", config_name=\"original-splits\")"
   ]
  },
  {
   "cell_type": "code",
   "execution_count": 49,
   "metadata": {},
   "outputs": [
    {
     "data": {
      "application/vnd.jupyter.widget-view+json": {
       "model_id": "3d27a4b5afb8493485d8f0244c5555ef",
       "version_major": 2,
       "version_minor": 0
      },
      "text/plain": [
       "Downloading readme:   0%|          | 0.00/3.62k [00:00<?, ?B/s]"
      ]
     },
     "metadata": {},
     "output_type": "display_data"
    },
    {
     "data": {
      "application/vnd.jupyter.widget-view+json": {
       "model_id": "6492a22e4b0d4d7d90a48fae79d57adf",
       "version_major": 2,
       "version_minor": 0
      },
      "text/plain": [
       "Downloading data files:   0%|          | 0/3 [00:00<?, ?it/s]"
      ]
     },
     "metadata": {},
     "output_type": "display_data"
    },
    {
     "data": {
      "application/vnd.jupyter.widget-view+json": {
       "model_id": "d64a6b9389444795adf876b2f473d350",
       "version_major": 2,
       "version_minor": 0
      },
      "text/plain": [
       "Downloading data:   0%|          | 0.00/1.24M [00:00<?, ?B/s]"
      ]
     },
     "metadata": {},
     "output_type": "display_data"
    },
    {
     "data": {
      "application/vnd.jupyter.widget-view+json": {
       "model_id": "58d9050c87e04860860bcc84ea7d2a67",
       "version_major": 2,
       "version_minor": 0
      },
      "text/plain": [
       "Downloading data:   0%|          | 0.00/49.7M [00:00<?, ?B/s]"
      ]
     },
     "metadata": {},
     "output_type": "display_data"
    },
    {
     "data": {
      "application/vnd.jupyter.widget-view+json": {
       "model_id": "7d1179d22d55409fb211e4b540682fda",
       "version_major": 2,
       "version_minor": 0
      },
      "text/plain": [
       "Downloading data:   0%|          | 0.00/1.24M [00:00<?, ?B/s]"
      ]
     },
     "metadata": {},
     "output_type": "display_data"
    },
    {
     "data": {
      "application/vnd.jupyter.widget-view+json": {
       "model_id": "1a3aaad8b4c94c3fb2311267e146815e",
       "version_major": 2,
       "version_minor": 0
      },
      "text/plain": [
       "Extracting data files:   0%|          | 0/3 [00:00<?, ?it/s]"
      ]
     },
     "metadata": {},
     "output_type": "display_data"
    },
    {
     "data": {
      "application/vnd.jupyter.widget-view+json": {
       "model_id": "1d8d7c31b5654721a711a440adf5bdee",
       "version_major": 2,
       "version_minor": 0
      },
      "text/plain": [
       "Generating test split:   0%|          | 0/4867 [00:00<?, ? examples/s]"
      ]
     },
     "metadata": {},
     "output_type": "display_data"
    },
    {
     "data": {
      "application/vnd.jupyter.widget-view+json": {
       "model_id": "47958849980a4dfeaf45e7e4ecd54550",
       "version_major": 2,
       "version_minor": 0
      },
      "text/plain": [
       "Generating train split:   0%|          | 0/195179 [00:00<?, ? examples/s]"
      ]
     },
     "metadata": {},
     "output_type": "display_data"
    },
    {
     "data": {
      "application/vnd.jupyter.widget-view+json": {
       "model_id": "b849d771636c484584bb2f2e317da42c",
       "version_major": 2,
       "version_minor": 0
      },
      "text/plain": [
       "Generating validation split:   0%|          | 0/4867 [00:00<?, ? examples/s]"
      ]
     },
     "metadata": {},
     "output_type": "display_data"
    }
   ],
   "source": [
    "ds = datasets.load_dataset(\"MU-NLPC/Calc-ape210k\", \"original-splits\")"
   ]
  },
  {
   "cell_type": "code",
   "execution_count": 52,
   "metadata": {},
   "outputs": [
    {
     "data": {
      "text/plain": [
       "DatasetDict({\n",
       "    test: Dataset({\n",
       "        features: ['id', 'question', 'question_chinese', 'chain', 'result', 'result_float', 'equation'],\n",
       "        num_rows: 4867\n",
       "    })\n",
       "    train: Dataset({\n",
       "        features: ['id', 'question', 'question_chinese', 'chain', 'result', 'result_float', 'equation'],\n",
       "        num_rows: 195179\n",
       "    })\n",
       "    validation: Dataset({\n",
       "        features: ['id', 'question', 'question_chinese', 'chain', 'result', 'result_float', 'equation'],\n",
       "        num_rows: 4867\n",
       "    })\n",
       "})"
      ]
     },
     "execution_count": 52,
     "metadata": {},
     "output_type": "execute_result"
    }
   ],
   "source": [
    "ds"
   ]
  },
  {
   "cell_type": "code",
   "execution_count": 53,
   "metadata": {},
   "outputs": [
    {
     "data": {
      "text/plain": [
       "{'id': 'ape210k__00491547',\n",
       " 'question': ' The school distributes 135 exercise books to 3 classes on average, how many books per class?',\n",
       " 'question_chinese': '学校把135本练习本平均分给3个班，每班多少本？',\n",
       " 'chain': '\\n<gadget id=\"calculator\">135 / 3</gadget>\\n<output>45</output>\\n\\n<result>45</result>',\n",
       " 'result': '45',\n",
       " 'result_float': 45.0,\n",
       " 'equation': 'x=135/3'}"
      ]
     },
     "execution_count": 53,
     "metadata": {},
     "output_type": "execute_result"
    }
   ],
   "source": [
    "ds[\"validation\"][0]"
   ]
  },
  {
   "cell_type": "code",
   "execution_count": null,
   "metadata": {},
   "outputs": [],
   "source": []
  }
 ],
 "metadata": {
  "kernelspec": {
   "display_name": "gadgets",
   "language": "python",
   "name": "python3"
  },
  "language_info": {
   "codemirror_mode": {
    "name": "ipython",
    "version": 3
   },
   "file_extension": ".py",
   "mimetype": "text/x-python",
   "name": "python",
   "nbconvert_exporter": "python",
   "pygments_lexer": "ipython3",
   "version": "3.10.12"
  },
  "orig_nbformat": 4,
  "vscode": {
   "interpreter": {
    "hash": "a7f6231f77ec21c2294c3d6709af1e2f422f901d97af66b8d2af2431244273a4"
   }
  }
 },
 "nbformat": 4,
 "nbformat_minor": 2
}
