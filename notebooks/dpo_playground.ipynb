{
 "cells": [
  {
   "cell_type": "code",
   "execution_count": 1,
   "metadata": {},
   "outputs": [],
   "source": [
    "import os\n",
    "\n",
    "os.environ[\"CUDA_VISIBLE_DEVICES\"] = \"0\""
   ]
  },
  {
   "cell_type": "code",
   "execution_count": 2,
   "metadata": {},
   "outputs": [
    {
     "name": "stdout",
     "output_type": "stream",
     "text": [
      "[2024-01-08 20:11:12,764] [INFO] [real_accelerator.py:161:get_accelerator] Setting ds_accelerator to cuda (auto detect)\n"
     ]
    }
   ],
   "source": [
    "import transformers\n",
    "import trl\n",
    "import pandas as pd\n",
    "import datasets\n",
    "import torch"
   ]
  },
  {
   "cell_type": "code",
   "execution_count": 3,
   "metadata": {},
   "outputs": [],
   "source": [
    "model_id = \"google/flan-t5-base\"\n",
    "tokenizer = transformers.AutoTokenizer.from_pretrained(model_id)\n",
    "model = transformers.AutoModelForSeq2SeqLM.from_pretrained(model_id)"
   ]
  },
  {
   "cell_type": "code",
   "execution_count": 4,
   "metadata": {},
   "outputs": [
    {
     "data": {
      "text/plain": [
       "[{'generated_text': '\"Son of Silence\" is a song by Simon & Garfunkel, released in April 1964.'}]"
      ]
     },
     "execution_count": 4,
     "metadata": {},
     "output_type": "execute_result"
    }
   ],
   "source": [
    "prompt = \"\"\"\n",
    "What is the full lyrics of the song Sound of Silence by Simon & Garfunkel?\n",
    "\"\"\".strip()\n",
    "\n",
    "pipeline = transformers.pipeline(\"text2text-generation\", model=model, tokenizer=tokenizer, device=model.device)\n",
    "pipeline(prompt, max_new_tokens=100)"
   ]
  },
  {
   "cell_type": "code",
   "execution_count": 5,
   "metadata": {},
   "outputs": [
    {
     "data": {
      "text/plain": [
       "Dataset({\n",
       "    features: ['prompt', 'rejected', 'chosen'],\n",
       "    num_rows: 4\n",
       "})"
      ]
     },
     "execution_count": 5,
     "metadata": {},
     "output_type": "execute_result"
    }
   ],
   "source": [
    "dummy_dataset = [\n",
    "    {\n",
    "        \"prompt\": prompt,\n",
    "        \"rejected\": \"\\\"Son of Silence\\\" is a song by Simon & Garfunkel, released in April 1964.'\",\n",
    "        \"chosen\": \"foo bar buzz.\",\n",
    "    },\n",
    "    {\n",
    "        \"prompt\": prompt,\n",
    "        \"rejected\": \"foo bar buzz.\",\n",
    "        \"chosen\": \"lorem ipsum dolor sit amet.\",\n",
    "    },\n",
    "    {\n",
    "        \"prompt\": prompt,\n",
    "        \"rejected\": \"lorem ipsum dolor sit amet.\",\n",
    "        \"chosen\": \"This is a simple test if DPO training will transitively converge to the highest ranked answer.\",\n",
    "    },\n",
    "    {\n",
    "        \"prompt\": prompt,\n",
    "        \"rejected\": \"This is a simple test if DPO training will transitively converge to the highest ranked answer.\",\n",
    "        \"chosen\": \"The answer to the ultimate question of life, the universe, and everything is 42.\",\n",
    "    },\n",
    "]\n",
    "\n",
    "dummy_dataset = datasets.Dataset.from_list(dummy_dataset)\n",
    "dummy_dataset"
   ]
  },
  {
   "cell_type": "code",
   "execution_count": 6,
   "metadata": {},
   "outputs": [],
   "source": [
    "training_args = transformers.TrainingArguments(\n",
    "    num_train_epochs=100,\n",
    "    do_train=True,\n",
    "    do_eval=False,\n",
    "    per_device_train_batch_size=4,\n",
    "    output_dir=\"./output\",\n",
    "    report_to=\"none\",\n",
    ")"
   ]
  },
  {
   "cell_type": "code",
   "execution_count": 7,
   "metadata": {},
   "outputs": [
    {
     "name": "stderr",
     "output_type": "stream",
     "text": [
      "/var/tmp/xkadlci2/.conda/envs/calc-x/lib/python3.10/site-packages/trl/trainer/dpo_trainer.py:263: UserWarning: When using DPODataCollatorWithPadding, you should set `max_length` in the DPOTrainer's init it will be set to `512` by default, but you should do it yourself in the future.\n",
      "  warnings.warn(\n",
      "/var/tmp/xkadlci2/.conda/envs/calc-x/lib/python3.10/site-packages/trl/trainer/dpo_trainer.py:270: UserWarning: When using DPODataCollatorWithPadding, you should set `max_prompt_length` in the DPOTrainer's init it will be set to `128` by default, but you should do it yourself in the future.\n",
      "  warnings.warn(\n",
      "/var/tmp/xkadlci2/.conda/envs/calc-x/lib/python3.10/site-packages/trl/trainer/dpo_trainer.py:278: UserWarning: When using DPODataCollatorWithPadding with an encoder decoder architecture, you should set `max_target_length` in the DPOTrainer's init it will be set to `128` by default, but you should do it yourself in the future.\n",
      "  warnings.warn(\n",
      "/var/tmp/xkadlci2/.conda/envs/calc-x/lib/python3.10/site-packages/trl/trainer/dpo_trainer.py:294: UserWarning: When using DPODataCollatorWithPadding, you should set `remove_unused_columns=False` in your TrainingArguments we have set it for you, but you should do it yourself in the future.\n",
      "  warnings.warn(\n"
     ]
    },
    {
     "data": {
      "application/vnd.jupyter.widget-view+json": {
       "model_id": "071db83c5fe742eebea30312823c8f12",
       "version_major": 2,
       "version_minor": 0
      },
      "text/plain": [
       "Map:   0%|          | 0/4 [00:00<?, ? examples/s]"
      ]
     },
     "metadata": {},
     "output_type": "display_data"
    }
   ],
   "source": [
    "trainer = trl.DPOTrainer(\n",
    "    model,\n",
    "    tokenizer=tokenizer,\n",
    "    args=training_args,\n",
    "    train_dataset=dummy_dataset,\n",
    ")"
   ]
  },
  {
   "cell_type": "code",
   "execution_count": 8,
   "metadata": {},
   "outputs": [
    {
     "name": "stderr",
     "output_type": "stream",
     "text": [
      "Could not estimate the number of tokens of the input, floating-point operations will not be computed\n"
     ]
    },
    {
     "data": {
      "text/html": [
       "\n",
       "    <div>\n",
       "      \n",
       "      <progress value='100' max='100' style='width:300px; height:20px; vertical-align: middle;'></progress>\n",
       "      [100/100 00:25, Epoch 100/100]\n",
       "    </div>\n",
       "    <table border=\"1\" class=\"dataframe\">\n",
       "  <thead>\n",
       " <tr style=\"text-align: left;\">\n",
       "      <th>Step</th>\n",
       "      <th>Training Loss</th>\n",
       "    </tr>\n",
       "  </thead>\n",
       "  <tbody>\n",
       "  </tbody>\n",
       "</table><p>"
      ],
      "text/plain": [
       "<IPython.core.display.HTML object>"
      ]
     },
     "metadata": {},
     "output_type": "display_data"
    },
    {
     "data": {
      "text/plain": [
       "TrainOutput(global_step=100, training_loss=0.035196692943573, metrics={'train_runtime': 26.7272, 'train_samples_per_second': 14.966, 'train_steps_per_second': 3.742, 'total_flos': 0.0, 'train_loss': 0.035196692943573, 'epoch': 100.0})"
      ]
     },
     "execution_count": 8,
     "metadata": {},
     "output_type": "execute_result"
    }
   ],
   "source": [
    "trainer.train()"
   ]
  },
  {
   "cell_type": "code",
   "execution_count": 9,
   "metadata": {},
   "outputs": [],
   "source": [
    "pipeline = transformers.pipeline(\"text2text-generation\", model=model, tokenizer=tokenizer, device=model.device)"
   ]
  },
  {
   "cell_type": "code",
   "execution_count": 11,
   "metadata": {},
   "outputs": [
    {
     "data": {
      "text/plain": [
       "[{'generated_text': 'The answer to the ultimate question of life, the universe, and everything is 42.'}]"
      ]
     },
     "execution_count": 11,
     "metadata": {},
     "output_type": "execute_result"
    }
   ],
   "source": [
    "pipeline(prompt, max_new_tokens=40)"
   ]
  }
 ],
 "metadata": {
  "kernelspec": {
   "display_name": "calc-x",
   "language": "python",
   "name": "python3"
  },
  "language_info": {
   "codemirror_mode": {
    "name": "ipython",
    "version": 3
   },
   "file_extension": ".py",
   "mimetype": "text/x-python",
   "name": "python",
   "nbconvert_exporter": "python",
   "pygments_lexer": "ipython3",
   "version": "3.10.13"
  }
 },
 "nbformat": 4,
 "nbformat_minor": 2
}
