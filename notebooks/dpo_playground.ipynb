{
 "cells": [
  {
   "cell_type": "code",
   "execution_count": 1,
   "metadata": {},
   "outputs": [],
   "source": [
    "import os\n",
    "\n",
    "\n",
    "os.environ[\"CUDA_VISIBLE_DEVICES\"] = \"\"\n",
    "os.environ[\"WANDB_PROJECT\"] = \"gadgets\"\n",
    "os.environ[\"WANDB_ENTITY\"] = \"transformersclub\""
   ]
  },
  {
   "cell_type": "code",
   "execution_count": 2,
   "metadata": {},
   "outputs": [
    {
     "name": "stderr",
     "output_type": "stream",
     "text": [
      "/var/tmp/xkadlci2/.conda/envs/calc-x/lib/python3.10/site-packages/bitsandbytes/cextension.py:34: UserWarning: The installed version of bitsandbytes was compiled without GPU support. 8-bit optimizers, 8-bit multiplication, and GPU quantization are unavailable.\n",
      "  warn(\"The installed version of bitsandbytes was compiled without GPU support. \"\n"
     ]
    },
    {
     "name": "stdout",
     "output_type": "stream",
     "text": [
      "/var/tmp/xkadlci2/.conda/envs/calc-x/lib/python3.10/site-packages/bitsandbytes/libbitsandbytes_cpu.so: undefined symbol: cadam32bit_grad_fp32\n",
      "[2024-01-25 22:24:00,634] [INFO] [real_accelerator.py:161:get_accelerator] Setting ds_accelerator to cuda (auto detect)\n"
     ]
    },
    {
     "name": "stderr",
     "output_type": "stream",
     "text": [
      "Failed to detect the name of this notebook, you can set it manually with the WANDB_NOTEBOOK_NAME environment variable to enable code saving.\n",
      "\u001b[34m\u001b[1mwandb\u001b[0m: Currently logged in as: \u001b[33mprompteus\u001b[0m (\u001b[33mtransformersclub\u001b[0m). Use \u001b[1m`wandb login --relogin`\u001b[0m to force relogin\n"
     ]
    },
    {
     "data": {
      "text/html": [
       "wandb version 0.16.2 is available!  To upgrade, please run:\n",
       " $ pip install wandb --upgrade"
      ],
      "text/plain": [
       "<IPython.core.display.HTML object>"
      ]
     },
     "metadata": {},
     "output_type": "display_data"
    },
    {
     "data": {
      "text/html": [
       "Tracking run with wandb version 0.13.11"
      ],
      "text/plain": [
       "<IPython.core.display.HTML object>"
      ]
     },
     "metadata": {},
     "output_type": "display_data"
    },
    {
     "data": {
      "text/html": [
       "Run data is saved locally in <code>/home/xkadlci2/calc-x/notebooks/wandb/run-20240125_222403-qz7vfu86</code>"
      ],
      "text/plain": [
       "<IPython.core.display.HTML object>"
      ]
     },
     "metadata": {},
     "output_type": "display_data"
    },
    {
     "data": {
      "text/html": [
       "Syncing run <strong><a href='https://wandb.ai/transformersclub/gadgets/runs/qz7vfu86' target=\"_blank\">mild-glade-431</a></strong> to <a href='https://wandb.ai/transformersclub/gadgets' target=\"_blank\">Weights & Biases</a> (<a href='https://wandb.me/run' target=\"_blank\">docs</a>)<br/>"
      ],
      "text/plain": [
       "<IPython.core.display.HTML object>"
      ]
     },
     "metadata": {},
     "output_type": "display_data"
    },
    {
     "data": {
      "text/html": [
       " View project at <a href='https://wandb.ai/transformersclub/gadgets' target=\"_blank\">https://wandb.ai/transformersclub/gadgets</a>"
      ],
      "text/plain": [
       "<IPython.core.display.HTML object>"
      ]
     },
     "metadata": {},
     "output_type": "display_data"
    },
    {
     "data": {
      "text/html": [
       " View run at <a href='https://wandb.ai/transformersclub/gadgets/runs/qz7vfu86' target=\"_blank\">https://wandb.ai/transformersclub/gadgets/runs/qz7vfu86</a>"
      ],
      "text/plain": [
       "<IPython.core.display.HTML object>"
      ]
     },
     "metadata": {},
     "output_type": "display_data"
    },
    {
     "data": {
      "text/html": [
       "<button onClick=\"this.nextSibling.style.display='block';this.style.display='none';\">Display W&B run</button><iframe src='https://wandb.ai/transformersclub/gadgets/runs/qz7vfu86?jupyter=true' style='border:none;width:100%;height:420px;display:none;'></iframe>"
      ],
      "text/plain": [
       "<wandb.sdk.wandb_run.Run at 0x7fee8d52dc30>"
      ]
     },
     "execution_count": 2,
     "metadata": {},
     "output_type": "execute_result"
    }
   ],
   "source": [
    "import transformers\n",
    "import trl\n",
    "import pandas as pd\n",
    "import datasets\n",
    "import torch\n",
    "import wandb\n",
    "\n",
    "wandb.init(group=\"dpo\")"
   ]
  },
  {
   "cell_type": "code",
   "execution_count": 3,
   "metadata": {},
   "outputs": [
    {
     "name": "stderr",
     "output_type": "stream",
     "text": [
      "You are using the default legacy behaviour of the <class 'transformers.models.t5.tokenization_t5.T5Tokenizer'>. This is expected, and simply means that the `legacy` (previous) behavior will be used so nothing changes for you. If you want to use the new behaviour, set `legacy=False`. This should only be set if you understand what it means, and thouroughly read the reason why this was added as explained in https://github.com/huggingface/transformers/pull/24565\n",
      "Special tokens have been added in the vocabulary, make sure the associated word embeddings are fine-tuned or trained.\n"
     ]
    }
   ],
   "source": [
    "import gadgets\n",
    "\n",
    "model_id = \"MU-NLPC/calcformer-t5-large\"\n",
    "\n",
    "model = transformers.AutoModelForSeq2SeqLM.from_pretrained(model_id)\n",
    "tokenizer = transformers.AutoTokenizer.from_pretrained(model_id, use_fast=False)\n",
    "model_class = gadgets.model.gadget_assisted_model(model.__class__)\n",
    "model = model_class.from_pretrained(model_id)"
   ]
  },
  {
   "cell_type": "code",
   "execution_count": 4,
   "metadata": {},
   "outputs": [],
   "source": [
    "model.prepare_for_generate(\n",
    "    tokenizer, \n",
    "    enabled_gadgets=[gadgets.gadget.Calculator()], \n",
    "    default_max_tokens=512\n",
    ")"
   ]
  },
  {
   "cell_type": "code",
   "execution_count": 5,
   "metadata": {},
   "outputs": [
    {
     "data": {
      "text/plain": [
       "'According to the ratio, for every 5 parts that Johnson gets, Mike gets 2 parts Since Johnson got $2500, each part is therefore $2500/5 = $<gadget id=\"calculator\">2500/5</gadget><output>500</output> 500 Mike will get 2*$500 = $<gadget id=\"calculator\">2*500</gadget><output>1_000</output> 1000 After buying the shirt he will have $1000-$200 = $<gadget id=\"calculator\">1000-200</gadget><output>800</output> 800 left. Final result is<result>800</result></s>'"
      ]
     },
     "execution_count": 5,
     "metadata": {},
     "output_type": "execute_result"
    }
   ],
   "source": [
    "prompt = \"\"\"\n",
    "The profit from a business transaction is shared among 2 business partners, \n",
    "Mike and Johnson in the ratio 2:5 respectively. \n",
    "If Johnson got $2500, how much will Mike have \n",
    "after spending some of his share on a shirt that costs $200?\n",
    "\"\"\".strip()\n",
    "\n",
    "inputs = tokenizer(prompt, return_tensors=\"pt\")\n",
    "output_ids = model.generate(**inputs)\n",
    "tokenizer.decode(output_ids[0], spaces_between_special_tokens=False)"
   ]
  },
  {
   "cell_type": "code",
   "execution_count": 6,
   "metadata": {},
   "outputs": [
    {
     "data": {
      "text/plain": [
       "(Dataset({\n",
       "     features: ['prompt', 'rejected', 'chosen'],\n",
       "     num_rows: 4\n",
       " }),\n",
       " Dataset({\n",
       "     features: ['prompt', 'chosen', 'rejected'],\n",
       "     num_rows: 4\n",
       " }))"
      ]
     },
     "execution_count": 6,
     "metadata": {},
     "output_type": "execute_result"
    }
   ],
   "source": [
    "dummy_dataset = [\n",
    "    {\n",
    "        \"prompt\": \"Xiao Wang wants to dilute 150 kg of pesticides with a 20% drug content into a 5% drug solution. How many kilograms of water need to be added?\",\n",
    "        \"rejected\": '<gadget id=\"calculator\">20 / 100</gadget> <output>1/5 = around 0.2</output> <gadget id=\"calculator\">5 / 100</gadget> <output>1/20 = around 0.05</output> <gadget id=\"calculator\">(1/5) / (1/20)</gadget> <output>4</output> <gadget id=\"calculator\">150 * 4</gadget> <output>600</output> <gadget id=\"calculator\">600 - 150</gadget> <output>450</output> <result>450</result>',\n",
    "        \"chosen\": 'The volume of the pesticide solution is 150 * 0.2 =<gadget id=\"calculator\">150*0.2</gadget><output>30</output> 30 kg. The volume of the diluted drug solution is 30 / 0.05 =<gadget id=\"calculator\">30/0.05</gadget><output>600</output> 600 kg. Thus, you need to add 600 - 150 =<gadget id=\"calculator\">600-150</gadget><output>450</output> 450 kg of water.<result>450</result>',\n",
    "    },\n",
    "    {\n",
    "        \"prompt\": \"A supermarket buys 5 tons of rice and sells 2,000 kilograms in 5 days. How many kilograms are left?\",\n",
    "        \"rejected\": '<gadget id=\"calculator\">5 * 1_000</gadget> <output>5_000</output> <gadget id=\"calculator\">5_000 - 2_000</gadget> <output>3_000</output> <result>3_000</result>',\n",
    "        \"chosen\": 'Five tons of rice is 5 x 1_000 =<gadget id=\"calculator\">5*1_000</gadget><output>5_000</output> 5000 kilograms. After selling 2,000 kilograms, there will be 5000 - 2000 =<gadget id=\"calculator\">5000-2000</gadget><output>3_000</output> 3000 kilograms left.<result>3_000</result>',\n",
    "    },\n",
    "    {\n",
    "        \"prompt\": \"The vegetable market shipped back 1,200 kilograms of eggplants. The tomatoes shipped back were eggplant (1/3). How many kilograms are tomatoes?\",\n",
    "        \"rejected\": '<gadget id=\"calculator\">1 / 3</gadget> <output>1/3 = around 0.333333</output> <gadget id=\"calculator\">1_200 * (1/3)</gadget> <output>400</output> <result>400</result>',\n",
    "        \"chosen\": 'If eggplant weighs 1,200 kilograms, then tomatoes weigh 1 / 3 * 1,200 =<gadget id=\"calculator\">1/3*1200</gadget><output>400</output> 400 kilograms.<result>400</result>',\n",
    "    },\n",
    "    {\n",
    "        \"prompt\": \"An electrical appliance factory originally planned to produce 4,200 refrigerators in 21 days. The actual daily production of 210 units, the actual completion of the task a few days earlier than the original plan?\",\n",
    "        \"rejected\": '<gadget id=\"calculator\">4_200 / 210</gadget> <output>20</output> <gadget id=\"calculator\">21 - 20</gadget> <output>1</output> <result>1</result>',\n",
    "        \"chosen\": 'The total number of units to be produced is 4200 / 210 =<gadget id=\"calculator\">4200/210</gadget><output>20</output> 20 units/day. Thus, the completion of the task can be completed in 21 - 20 =<gadget id=\"calculator\">21-20</gadget><output>1</output> 1 day early.<result>1</result>',\n",
    "    },\n",
    "]\n",
    "\n",
    "valid_dataset = [\n",
    "    {\n",
    "        \"prompt\": \"In order to help the victims of the earthquake in Sichuan, the factory rushed to make a batch of disaster relief tents. The first workshop completed (1/5) of this batch of tents, the second workshop completed (1/4) of this batch of tents, and the remaining batch of tents What percentage of it is not completed?\",\n",
    "        \"chosen\": '<gadget id=\"calculator\">1 / 5</gadget> <output>1/5 = around 0.2</output> <gadget id=\"calculator\">1 / 4</gadget> <output>1/4 = around 0.25</output> <gadget id=\"calculator\">1 - (1/5) - (1/4)</gadget> <output>11/20 = around 0.55</output> <result>11/20 = around 0.55</result>',\n",
    "        \"rejected\": \"\",\n",
    "    },\n",
    "    {\n",
    "        \"prompt\": \"A 0.15-hectare paddy field, with a row spacing of 2 decimeters and a hole spacing of 15 cm, how many rice seedlings can be transplanted in total?\",\n",
    "        \"chosen\": '<gadget id=\"calculator\">15 * 10_000</gadget> <output>150_000</output> <gadget id=\"calculator\">0.15 * 10</gadget> <output>1.5</output> <gadget id=\"calculator\">2 * 1.5</gadget> <output>3</output> <gadget id=\"calculator\">150_000 / 3</gadget> <output>50_000</output> <result>50_000</result>',\n",
    "        \"rejected\": \"\",\n",
    "    },\n",
    "    {\n",
    "        \"prompt\": \"Divide 30kg of sugar into how many bags of equal mass, the mass of each bag is (10/3) kg.\",\n",
    "        \"chosen\": '<gadget id=\"calculator\">10 / 3</gadget> <output>10/3 = around 3.333333</output> <gadget id=\"calculator\">30 / (10/3)</gadget> <output>9</output> <result>9</result>',\n",
    "        \"rejected\": \"\",\n",
    "    },\n",
    "    {\n",
    "        \"prompt\": \"Xiao Ming bought 7 CDs and 42 floppy disks for 252 yuan, 4 yuan for each floppy disk, how much is a CD.\",\n",
    "        \"chosen\": '<gadget id=\"calculator\">42 * 4</gadget> <output>168</output> <gadget id=\"calculator\">252 - 168</gadget> <output>84</output> <gadget id=\"calculator\">84 / 7</gadget> <output>12</output> <result>12</result>',\n",
    "        \"rejected\": \"\",\n",
    "    }\n",
    "]\n",
    "\n",
    "\n",
    "dummy_dataset = datasets.Dataset.from_list(dummy_dataset)\n",
    "valid_dataset = datasets.Dataset.from_list(valid_dataset)\n",
    "\n",
    "dummy_dataset, valid_dataset"
   ]
  },
  {
   "cell_type": "code",
   "execution_count": 7,
   "metadata": {},
   "outputs": [],
   "source": [
    "training_args = transformers.Seq2SeqTrainingArguments(\n",
    "    max_steps=100,\n",
    "    per_device_train_batch_size=4,\n",
    "    per_device_eval_batch_size=1,\n",
    "    do_train=True,\n",
    "    do_eval=True,\n",
    "    evaluation_strategy=\"steps\",\n",
    "    eval_steps=5,\n",
    "    output_dir=\"./output\",\n",
    "    report_to=\"none\",\n",
    "    remove_unused_columns=True,\n",
    "    predict_with_generate=True,\n",
    "    include_inputs_for_metrics=True,\n",
    ")"
   ]
  },
  {
   "cell_type": "code",
   "execution_count": 8,
   "metadata": {},
   "outputs": [],
   "source": [
    "compute_metrics = gadgets.metrics.MonitorMetrics(\n",
    "    tokenizer,\n",
    "    source_ds_col=[\"ape210k\"] * len(valid_dataset),\n",
    "    eval_ds_inputs=None,\n",
    "    log_predictions=True\n",
    ")"
   ]
  },
  {
   "cell_type": "code",
   "execution_count": 9,
   "metadata": {},
   "outputs": [
    {
     "name": "stderr",
     "output_type": "stream",
     "text": [
      "/home/xkadlci2/calc-x/gadgets/dpo_trainer.py:325: UserWarning: When using DPODataCollatorWithPadding, you should set `remove_unused_columns=False` in your Seq2SeqTrainingArguments we have set it for you, but you should do it yourself in the future.\n",
      "  warnings.warn(\n"
     ]
    },
    {
     "data": {
      "application/vnd.jupyter.widget-view+json": {
       "model_id": "2b73cfac8e9d47b9a4eed6730d618ffd",
       "version_major": 2,
       "version_minor": 0
      },
      "text/plain": [
       "Map:   0%|          | 0/4 [00:00<?, ? examples/s]"
      ]
     },
     "metadata": {},
     "output_type": "display_data"
    },
    {
     "data": {
      "application/vnd.jupyter.widget-view+json": {
       "model_id": "e081b8ab61d44a3ebe4543e020f5c95c",
       "version_major": 2,
       "version_minor": 0
      },
      "text/plain": [
       "Map:   0%|          | 0/4 [00:00<?, ? examples/s]"
      ]
     },
     "metadata": {},
     "output_type": "display_data"
    }
   ],
   "source": [
    "trainer = gadgets.dpo_trainer.DPOTrainer(\n",
    "    model,\n",
    "    args=training_args,\n",
    "    train_dataset=dummy_dataset,\n",
    "    eval_dataset=valid_dataset,\n",
    "    max_length=756,\n",
    "    max_prompt_length=756,\n",
    "    max_target_length=756,\n",
    "    tokenizer=tokenizer,\n",
    "    compute_metrics=compute_metrics,\n",
    ")"
   ]
  },
  {
   "cell_type": "code",
   "execution_count": 10,
   "metadata": {},
   "outputs": [],
   "source": [
    "compute_metrics.set_eval_ds_inputs(trainer.eval_dataset[\"prompt_input_ids\"])"
   ]
  },
  {
   "cell_type": "code",
   "execution_count": 11,
   "metadata": {},
   "outputs": [
    {
     "data": {
      "text/html": [
       "\n",
       "    <div>\n",
       "      \n",
       "      <progress value='100' max='100' style='width:300px; height:20px; vertical-align: middle;'></progress>\n",
       "      [100/100 22:37, Epoch 100/100]\n",
       "    </div>\n",
       "    <table border=\"1\" class=\"dataframe\">\n",
       "  <thead>\n",
       " <tr style=\"text-align: left;\">\n",
       "      <th>Step</th>\n",
       "      <th>Training Loss</th>\n",
       "      <th>Validation Loss</th>\n",
       "      <th>Ape210k  Rouge1</th>\n",
       "      <th>Ape210k  Rouge2</th>\n",
       "      <th>Ape210k  Rougel</th>\n",
       "      <th>Ape210k  Rougelsum</th>\n",
       "      <th>Ape210k  Sacrebleu</th>\n",
       "      <th>Ape210k  Num Tokens</th>\n",
       "      <th>Ape210k  Num Gadget Calls Pred</th>\n",
       "      <th>Ape210k  Num Gadget Calls True</th>\n",
       "      <th>Ape210k  Correct Results</th>\n",
       "      <th>Avg Correct Results</th>\n",
       "    </tr>\n",
       "  </thead>\n",
       "  <tbody>\n",
       "    <tr>\n",
       "      <td>5</td>\n",
       "      <td>No log</td>\n",
       "      <td>0.042748</td>\n",
       "      <td>0.913866</td>\n",
       "      <td>0.878205</td>\n",
       "      <td>0.892857</td>\n",
       "      <td>0.892857</td>\n",
       "      <td>79.831281</td>\n",
       "      <td>143.000000</td>\n",
       "      <td>3.500000</td>\n",
       "      <td>3.000000</td>\n",
       "      <td>0.750000</td>\n",
       "      <td>0.750000</td>\n",
       "    </tr>\n",
       "    <tr>\n",
       "      <td>10</td>\n",
       "      <td>No log</td>\n",
       "      <td>0.042398</td>\n",
       "      <td>0.951031</td>\n",
       "      <td>0.892105</td>\n",
       "      <td>0.925258</td>\n",
       "      <td>0.925258</td>\n",
       "      <td>90.594101</td>\n",
       "      <td>125.000000</td>\n",
       "      <td>3.000000</td>\n",
       "      <td>3.000000</td>\n",
       "      <td>0.750000</td>\n",
       "      <td>0.750000</td>\n",
       "    </tr>\n",
       "    <tr>\n",
       "      <td>15</td>\n",
       "      <td>No log</td>\n",
       "      <td>0.042408</td>\n",
       "      <td>0.951031</td>\n",
       "      <td>0.892105</td>\n",
       "      <td>0.925258</td>\n",
       "      <td>0.925258</td>\n",
       "      <td>90.594101</td>\n",
       "      <td>125.000000</td>\n",
       "      <td>3.000000</td>\n",
       "      <td>3.000000</td>\n",
       "      <td>0.750000</td>\n",
       "      <td>0.750000</td>\n",
       "    </tr>\n",
       "    <tr>\n",
       "      <td>20</td>\n",
       "      <td>No log</td>\n",
       "      <td>0.042515</td>\n",
       "      <td>0.951031</td>\n",
       "      <td>0.892105</td>\n",
       "      <td>0.925258</td>\n",
       "      <td>0.925258</td>\n",
       "      <td>90.594101</td>\n",
       "      <td>125.000000</td>\n",
       "      <td>3.000000</td>\n",
       "      <td>3.000000</td>\n",
       "      <td>0.750000</td>\n",
       "      <td>0.750000</td>\n",
       "    </tr>\n",
       "    <tr>\n",
       "      <td>25</td>\n",
       "      <td>No log</td>\n",
       "      <td>0.042635</td>\n",
       "      <td>0.951031</td>\n",
       "      <td>0.892105</td>\n",
       "      <td>0.925258</td>\n",
       "      <td>0.925258</td>\n",
       "      <td>90.594101</td>\n",
       "      <td>125.000000</td>\n",
       "      <td>3.000000</td>\n",
       "      <td>3.000000</td>\n",
       "      <td>0.750000</td>\n",
       "      <td>0.750000</td>\n",
       "    </tr>\n",
       "    <tr>\n",
       "      <td>30</td>\n",
       "      <td>No log</td>\n",
       "      <td>0.042751</td>\n",
       "      <td>0.951031</td>\n",
       "      <td>0.892105</td>\n",
       "      <td>0.925258</td>\n",
       "      <td>0.925258</td>\n",
       "      <td>90.594101</td>\n",
       "      <td>125.000000</td>\n",
       "      <td>3.000000</td>\n",
       "      <td>3.000000</td>\n",
       "      <td>0.750000</td>\n",
       "      <td>0.750000</td>\n",
       "    </tr>\n",
       "    <tr>\n",
       "      <td>35</td>\n",
       "      <td>No log</td>\n",
       "      <td>0.042854</td>\n",
       "      <td>0.951031</td>\n",
       "      <td>0.892105</td>\n",
       "      <td>0.925258</td>\n",
       "      <td>0.925258</td>\n",
       "      <td>90.594101</td>\n",
       "      <td>125.000000</td>\n",
       "      <td>3.000000</td>\n",
       "      <td>3.000000</td>\n",
       "      <td>0.750000</td>\n",
       "      <td>0.750000</td>\n",
       "    </tr>\n",
       "    <tr>\n",
       "      <td>40</td>\n",
       "      <td>No log</td>\n",
       "      <td>0.042940</td>\n",
       "      <td>0.951031</td>\n",
       "      <td>0.892105</td>\n",
       "      <td>0.925258</td>\n",
       "      <td>0.925258</td>\n",
       "      <td>90.594101</td>\n",
       "      <td>125.000000</td>\n",
       "      <td>3.000000</td>\n",
       "      <td>3.000000</td>\n",
       "      <td>0.750000</td>\n",
       "      <td>0.750000</td>\n",
       "    </tr>\n",
       "    <tr>\n",
       "      <td>45</td>\n",
       "      <td>No log</td>\n",
       "      <td>0.043006</td>\n",
       "      <td>0.951031</td>\n",
       "      <td>0.892105</td>\n",
       "      <td>0.925258</td>\n",
       "      <td>0.925258</td>\n",
       "      <td>90.594101</td>\n",
       "      <td>125.000000</td>\n",
       "      <td>3.000000</td>\n",
       "      <td>3.000000</td>\n",
       "      <td>0.750000</td>\n",
       "      <td>0.750000</td>\n",
       "    </tr>\n",
       "    <tr>\n",
       "      <td>50</td>\n",
       "      <td>No log</td>\n",
       "      <td>0.043060</td>\n",
       "      <td>0.927273</td>\n",
       "      <td>0.888889</td>\n",
       "      <td>0.918182</td>\n",
       "      <td>0.918182</td>\n",
       "      <td>84.464190</td>\n",
       "      <td>134.250000</td>\n",
       "      <td>3.250000</td>\n",
       "      <td>3.000000</td>\n",
       "      <td>0.750000</td>\n",
       "      <td>0.750000</td>\n",
       "    </tr>\n",
       "    <tr>\n",
       "      <td>55</td>\n",
       "      <td>No log</td>\n",
       "      <td>0.043104</td>\n",
       "      <td>0.927273</td>\n",
       "      <td>0.888889</td>\n",
       "      <td>0.918182</td>\n",
       "      <td>0.918182</td>\n",
       "      <td>84.464190</td>\n",
       "      <td>134.250000</td>\n",
       "      <td>3.250000</td>\n",
       "      <td>3.000000</td>\n",
       "      <td>0.750000</td>\n",
       "      <td>0.750000</td>\n",
       "    </tr>\n",
       "    <tr>\n",
       "      <td>60</td>\n",
       "      <td>No log</td>\n",
       "      <td>0.043140</td>\n",
       "      <td>0.927273</td>\n",
       "      <td>0.888889</td>\n",
       "      <td>0.918182</td>\n",
       "      <td>0.918182</td>\n",
       "      <td>84.464190</td>\n",
       "      <td>134.250000</td>\n",
       "      <td>3.250000</td>\n",
       "      <td>3.000000</td>\n",
       "      <td>0.750000</td>\n",
       "      <td>0.750000</td>\n",
       "    </tr>\n",
       "    <tr>\n",
       "      <td>65</td>\n",
       "      <td>No log</td>\n",
       "      <td>0.043167</td>\n",
       "      <td>0.927273</td>\n",
       "      <td>0.888889</td>\n",
       "      <td>0.918182</td>\n",
       "      <td>0.918182</td>\n",
       "      <td>84.464190</td>\n",
       "      <td>134.250000</td>\n",
       "      <td>3.250000</td>\n",
       "      <td>3.000000</td>\n",
       "      <td>0.750000</td>\n",
       "      <td>0.750000</td>\n",
       "    </tr>\n",
       "    <tr>\n",
       "      <td>70</td>\n",
       "      <td>No log</td>\n",
       "      <td>0.043188</td>\n",
       "      <td>0.927273</td>\n",
       "      <td>0.888889</td>\n",
       "      <td>0.918182</td>\n",
       "      <td>0.918182</td>\n",
       "      <td>84.464190</td>\n",
       "      <td>134.250000</td>\n",
       "      <td>3.250000</td>\n",
       "      <td>3.000000</td>\n",
       "      <td>0.750000</td>\n",
       "      <td>0.750000</td>\n",
       "    </tr>\n",
       "    <tr>\n",
       "      <td>75</td>\n",
       "      <td>No log</td>\n",
       "      <td>0.043205</td>\n",
       "      <td>0.927273</td>\n",
       "      <td>0.888889</td>\n",
       "      <td>0.918182</td>\n",
       "      <td>0.918182</td>\n",
       "      <td>84.464190</td>\n",
       "      <td>134.250000</td>\n",
       "      <td>3.250000</td>\n",
       "      <td>3.000000</td>\n",
       "      <td>0.750000</td>\n",
       "      <td>0.750000</td>\n",
       "    </tr>\n",
       "    <tr>\n",
       "      <td>80</td>\n",
       "      <td>No log</td>\n",
       "      <td>0.043218</td>\n",
       "      <td>0.927273</td>\n",
       "      <td>0.888889</td>\n",
       "      <td>0.918182</td>\n",
       "      <td>0.918182</td>\n",
       "      <td>84.464190</td>\n",
       "      <td>134.250000</td>\n",
       "      <td>3.250000</td>\n",
       "      <td>3.000000</td>\n",
       "      <td>0.750000</td>\n",
       "      <td>0.750000</td>\n",
       "    </tr>\n",
       "    <tr>\n",
       "      <td>85</td>\n",
       "      <td>No log</td>\n",
       "      <td>0.043227</td>\n",
       "      <td>0.927273</td>\n",
       "      <td>0.888889</td>\n",
       "      <td>0.918182</td>\n",
       "      <td>0.918182</td>\n",
       "      <td>84.464190</td>\n",
       "      <td>134.250000</td>\n",
       "      <td>3.250000</td>\n",
       "      <td>3.000000</td>\n",
       "      <td>0.750000</td>\n",
       "      <td>0.750000</td>\n",
       "    </tr>\n",
       "    <tr>\n",
       "      <td>90</td>\n",
       "      <td>No log</td>\n",
       "      <td>0.043233</td>\n",
       "      <td>0.927273</td>\n",
       "      <td>0.888889</td>\n",
       "      <td>0.918182</td>\n",
       "      <td>0.918182</td>\n",
       "      <td>84.464190</td>\n",
       "      <td>134.250000</td>\n",
       "      <td>3.250000</td>\n",
       "      <td>3.000000</td>\n",
       "      <td>0.750000</td>\n",
       "      <td>0.750000</td>\n",
       "    </tr>\n",
       "    <tr>\n",
       "      <td>95</td>\n",
       "      <td>No log</td>\n",
       "      <td>0.043237</td>\n",
       "      <td>0.927273</td>\n",
       "      <td>0.888889</td>\n",
       "      <td>0.918182</td>\n",
       "      <td>0.918182</td>\n",
       "      <td>84.464190</td>\n",
       "      <td>134.250000</td>\n",
       "      <td>3.250000</td>\n",
       "      <td>3.000000</td>\n",
       "      <td>0.750000</td>\n",
       "      <td>0.750000</td>\n",
       "    </tr>\n",
       "    <tr>\n",
       "      <td>100</td>\n",
       "      <td>No log</td>\n",
       "      <td>0.043238</td>\n",
       "      <td>0.927273</td>\n",
       "      <td>0.888889</td>\n",
       "      <td>0.918182</td>\n",
       "      <td>0.918182</td>\n",
       "      <td>84.464190</td>\n",
       "      <td>134.250000</td>\n",
       "      <td>3.250000</td>\n",
       "      <td>3.000000</td>\n",
       "      <td>0.750000</td>\n",
       "      <td>0.750000</td>\n",
       "    </tr>\n",
       "  </tbody>\n",
       "</table><p>"
      ],
      "text/plain": [
       "<IPython.core.display.HTML object>"
      ]
     },
     "metadata": {},
     "output_type": "display_data"
    },
    {
     "data": {
      "text/plain": [
       "TrainOutput(global_step=100, training_loss=0.007769244313240051, metrics={'train_runtime': 1375.5751, 'train_samples_per_second': 0.291, 'train_steps_per_second': 0.073, 'total_flos': 75622411468800.0, 'train_loss': 0.007769244313240051, 'epoch': 100.0})"
      ]
     },
     "execution_count": 11,
     "metadata": {},
     "output_type": "execute_result"
    }
   ],
   "source": [
    "trainer.train()"
   ]
  }
 ],
 "metadata": {
  "kernelspec": {
   "display_name": "calc-x",
   "language": "python",
   "name": "python3"
  },
  "language_info": {
   "codemirror_mode": {
    "name": "ipython",
    "version": 3
   },
   "file_extension": ".py",
   "mimetype": "text/x-python",
   "name": "python",
   "nbconvert_exporter": "python",
   "pygments_lexer": "ipython3",
   "version": "3.10.13"
  }
 },
 "nbformat": 4,
 "nbformat_minor": 2
}
